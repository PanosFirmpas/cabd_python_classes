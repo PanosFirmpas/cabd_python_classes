{
 "metadata": {
  "name": "",
  "signature": "sha256:37dafe22e201bffdf966a6d38076a84e8a0e6eeabb36cb1d692f549d869369ad"
 },
 "nbformat": 3,
 "nbformat_minor": 0,
 "worksheets": [
  {
   "cells": [
    {
     "cell_type": "markdown",
     "metadata": {},
     "source": [
      "### Beyond for loops and if/else"
     ]
    },
    {
     "cell_type": "markdown",
     "metadata": {},
     "source": [
      "### While\n",
      "The while statement is used for repeated execution as long as an expression is true:"
     ]
    },
    {
     "cell_type": "code",
     "collapsed": false,
     "input": [
      "flag = 0\n",
      "\n",
      "while flag < 10:\n",
      "    print(\"flag has a value of {0}\".format(flag))\n",
      "    flag +=1 "
     ],
     "language": "python",
     "metadata": {},
     "outputs": [
      {
       "output_type": "stream",
       "stream": "stdout",
       "text": [
        "flag has a value of 0\n",
        "flag has a value of 1\n",
        "flag has a value of 2\n",
        "flag has a value of 3\n",
        "flag has a value of 4\n",
        "flag has a value of 5\n",
        "flag has a value of 6\n",
        "flag has a value of 7\n",
        "flag has a value of 8\n",
        "flag has a value of 9\n"
       ]
      }
     ],
     "prompt_number": 3
    },
    {
     "cell_type": "markdown",
     "metadata": {},
     "source": [
      "### break\n",
      "The break statement breaks out of the smallest enclosing for or while loop."
     ]
    },
    {
     "cell_type": "code",
     "collapsed": false,
     "input": [
      "flag = 0\n",
      "while flag < 10:\n",
      "    print(\"flag has a value of {0}\".format(flag))\n",
      "    flag +=1\n",
      "    if flag == 3:\n",
      "        break"
     ],
     "language": "python",
     "metadata": {},
     "outputs": [
      {
       "output_type": "stream",
       "stream": "stdout",
       "text": [
        "flag has a value of 0\n",
        "flag has a value of 1\n",
        "flag has a value of 2\n"
       ]
      }
     ],
     "prompt_number": 4
    },
    {
     "cell_type": "code",
     "collapsed": false,
     "input": [
      "for i in range(10):\n",
      "    if i > 3:\n",
      "        break\n",
      "    print(i)\n",
      "    "
     ],
     "language": "python",
     "metadata": {},
     "outputs": [
      {
       "output_type": "stream",
       "stream": "stdout",
       "text": [
        "0\n",
        "1\n",
        "2\n",
        "3\n"
       ]
      }
     ],
     "prompt_number": 7
    },
    {
     "cell_type": "markdown",
     "metadata": {},
     "source": [
      "###continue\n",
      "The continue statement continues with the next iteration of the loop:"
     ]
    },
    {
     "cell_type": "code",
     "collapsed": false,
     "input": [
      "for num in range(2, 10):\n",
      "    if num % 2 == 0:\n",
      "        print(\"Found an even number\", num)\n",
      "        continue\n",
      "    print(\"Found a number\", num)"
     ],
     "language": "python",
     "metadata": {},
     "outputs": [
      {
       "output_type": "stream",
       "stream": "stdout",
       "text": [
        "Found an even number 2\n",
        "Found a number 3\n",
        "Found an even number 4\n",
        "Found a number 5\n",
        "Found an even number 6\n",
        "Found a number 7\n",
        "Found an even number 8\n",
        "Found a number 9\n"
       ]
      }
     ],
     "prompt_number": 6
    },
    {
     "cell_type": "code",
     "collapsed": false,
     "input": [
      "for i in range(10):\n",
      "    if i > 3 and i < 6:\n",
      "        continue\n",
      "    print(i)"
     ],
     "language": "python",
     "metadata": {},
     "outputs": [
      {
       "output_type": "stream",
       "stream": "stdout",
       "text": [
        "0\n",
        "1\n",
        "2\n",
        "3\n",
        "6\n",
        "7\n",
        "8\n",
        "9\n"
       ]
      }
     ],
     "prompt_number": 9
    },
    {
     "cell_type": "code",
     "collapsed": false,
     "input": [],
     "language": "python",
     "metadata": {},
     "outputs": []
    }
   ],
   "metadata": {}
  }
 ]
}