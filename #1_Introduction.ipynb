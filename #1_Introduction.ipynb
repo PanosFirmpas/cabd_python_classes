{
 "metadata": {
  "name": "",
  "signature": "sha256:c3e00c27b54226daa77e17de8c28738e051d7a3b5aca6a16becfda38c70cd307"
 },
 "nbformat": 3,
 "nbformat_minor": 0,
 "worksheets": [
  {
   "cells": [
    {
     "cell_type": "markdown",
     "metadata": {},
     "source": [
      "# Why Python\n",
      "* It can do everything\n",
      "* It is easy to learn and easy to use\n",
      "* It can run everywhere\n",
      "* It is fast enough\n",
      "* It has a **huge** community\n",
      "* It's free"
     ]
    },
    {
     "cell_type": "markdown",
     "metadata": {},
     "source": [
      "## A High-level language\n",
      "Python is an example of a high-level language; other high-level languages you might have heard of are C++, PHP, and Java.\n",
      "\n",
      "As you might infer from the name high-level language, there are also low-level languages, sometimes referred to as machine languages or assembly languages. Loosely speaking, computers can only execute programs written in low-level languages. Thus, programs written in a high-level language have to be processed before they can run. This extra processing takes some time, which is a small disadvantage of high-level languages.\n",
      "\n",
      "But the advantages are enormous. First, it is much easier to program in a high-level language. Programs written in a high-level language take less time to write, they are shorter and easier to read, and they are more likely to be correct. Second, high-level languages are portable, meaning that they can run on different kinds of computers with few or no modifications. Low-level programs can run on only one kind of computer and have to be rewritten to run on another.\n",
      "\n",
      "[..]\n",
      "\n",
      "Two kinds of programs process high-level languages into low-level languages: interpreters and compilers. An interpreter reads a high-level program and executes it, meaning that it does what the program says. It processes the program a little at a time, alternately reading lines and performing computations.\n",
      "\n",
      "<img src=\"http://www.openbookproject.net/thinkcs/python/english2e/_images/interpret.png\">\n",
      "\n",
      "A compiler reads the program and translates it completely before the program starts running. In this case, the high-level program is called the source code, and the translated program is called the object code or the executable. Once a program is compiled, you can execute it repeatedly without further translation.\n",
      "\n",
      "<img src=\"http://www.openbookproject.net/thinkcs/python/english2e/_images/compile.png\">\n",
      "\n",
      "<sub>http://www.openbookproject.net/thinkcs/python/english2e/ch01.html</sub>"
     ]
    },
    {
     "cell_type": "markdown",
     "metadata": {},
     "source": [
      "##Your First program\n",
      "\n",
      "###Checklist:\n",
      "* Python installed\n",
      "* Some text editor installed"
     ]
    },
    {
     "cell_type": "markdown",
     "metadata": {},
     "source": [
      "##Command line ultra-basics:\n",
      "\n",
      "###pwd\n",
      "'Print Working Directory'"
     ]
    },
    {
     "cell_type": "code",
     "collapsed": false,
     "input": [
      "pwd"
     ],
     "language": "python",
     "metadata": {},
     "outputs": [
      {
       "metadata": {},
       "output_type": "pyout",
       "prompt_number": 2,
       "text": [
        "'/home/panos/notebooks/Python_Classes'"
       ]
      }
     ],
     "prompt_number": 2
    },
    {
     "cell_type": "markdown",
     "metadata": {},
     "source": [
      "##ls\n",
      "'list' (list directory contents)"
     ]
    },
    {
     "cell_type": "code",
     "collapsed": false,
     "input": [
      "ls"
     ],
     "language": "python",
     "metadata": {},
     "outputs": [
      {
       "output_type": "stream",
       "stream": "stdout",
       "text": [
        "#1_Introduction.ipynb    matplotlib.ipynb\r\n",
        "common-confusions.ipynb  numpy.ipynb\r\n",
        "expressions.ipynb        statistics.ipynb\r\n",
        "\u001b[0m\u001b[01;34mfirst_class\u001b[0m/             strings.ipynb\r\n",
        "for-loops.ipynb          types.ipynb\r\n",
        "functions-using.ipynb    variables-assignment.ipynb\r\n",
        "functions-writing.ipynb  while-loops.ipynb\r\n",
        "integer-division.ipynb\r\n",
        "\u001b[m"
       ]
      }
     ],
     "prompt_number": 5
    },
    {
     "cell_type": "markdown",
     "metadata": {},
     "source": [
      "##ls -l\n",
      "'list and show results in a list'\n",
      "\n",
      "##ls -a\n",
      "'list all'\n",
      "\n",
      "##ls -la\n",
      "'list all, show in list'\n",
      "\n",
      "##ls -lh\n",
      "'list , show in list and show numbers in human readable format'"
     ]
    },
    {
     "cell_type": "markdown",
     "metadata": {},
     "source": [
      "###mkdir\n",
      "'Make directory'"
     ]
    },
    {
     "cell_type": "code",
     "collapsed": false,
     "input": [
      "mkdir ./first_class"
     ],
     "language": "python",
     "metadata": {},
     "outputs": [],
     "prompt_number": 9
    },
    {
     "cell_type": "code",
     "collapsed": false,
     "input": [
      "ls"
     ],
     "language": "python",
     "metadata": {},
     "outputs": [
      {
       "output_type": "stream",
       "stream": "stdout",
       "text": [
        "#1_Introduction.ipynb    matplotlib.ipynb\r\n",
        "common-confusions.ipynb  numpy.ipynb\r\n",
        "expressions.ipynb        statistics.ipynb\r\n",
        "\u001b[0m\u001b[01;34mfirst_class\u001b[0m/             strings.ipynb\r\n",
        "for-loops.ipynb          types.ipynb\r\n",
        "functions-using.ipynb    variables-assignment.ipynb\r\n",
        "functions-writing.ipynb  while-loops.ipynb\r\n",
        "integer-division.ipynb\r\n",
        "\u001b[m"
       ]
      }
     ],
     "prompt_number": 10
    },
    {
     "cell_type": "code",
     "collapsed": false,
     "input": [
      "mkdir ./first_class/new_folder"
     ],
     "language": "python",
     "metadata": {},
     "outputs": [],
     "prompt_number": 11
    },
    {
     "cell_type": "code",
     "collapsed": false,
     "input": [
      "ls"
     ],
     "language": "python",
     "metadata": {},
     "outputs": [
      {
       "output_type": "stream",
       "stream": "stdout",
       "text": [
        "#1_Introduction.ipynb    matplotlib.ipynb\r\n",
        "common-confusions.ipynb  numpy.ipynb\r\n",
        "expressions.ipynb        statistics.ipynb\r\n",
        "\u001b[0m\u001b[01;34mfirst_class\u001b[0m/             strings.ipynb\r\n",
        "for-loops.ipynb          types.ipynb\r\n",
        "functions-using.ipynb    variables-assignment.ipynb\r\n",
        "functions-writing.ipynb  while-loops.ipynb\r\n",
        "integer-division.ipynb\r\n",
        "\u001b[m"
       ]
      }
     ],
     "prompt_number": 12
    },
    {
     "cell_type": "code",
     "collapsed": false,
     "input": [
      "ls ./first_class/"
     ],
     "language": "python",
     "metadata": {},
     "outputs": [
      {
       "output_type": "stream",
       "stream": "stdout",
       "text": [
        "\u001b[0m\u001b[01;34mnew_folder\u001b[0m/\r\n",
        "\u001b[m"
       ]
      }
     ],
     "prompt_number": 13
    },
    {
     "cell_type": "markdown",
     "metadata": {},
     "source": [
      "##cd\n",
      "'Change directory'"
     ]
    },
    {
     "cell_type": "code",
     "collapsed": false,
     "input": [
      "cd ./first_class/"
     ],
     "language": "python",
     "metadata": {},
     "outputs": [
      {
       "output_type": "stream",
       "stream": "stdout",
       "text": [
        "/home/panos/notebooks/Python_Classes/first_class\n"
       ]
      }
     ],
     "prompt_number": 14
    },
    {
     "cell_type": "code",
     "collapsed": false,
     "input": [
      "pwd"
     ],
     "language": "python",
     "metadata": {},
     "outputs": [
      {
       "metadata": {},
       "output_type": "pyout",
       "prompt_number": 15,
       "text": [
        "'/home/panos/notebooks/Python_Classes/first_class'"
       ]
      }
     ],
     "prompt_number": 15
    },
    {
     "cell_type": "code",
     "collapsed": false,
     "input": [
      "cd .."
     ],
     "language": "python",
     "metadata": {},
     "outputs": [
      {
       "output_type": "stream",
       "stream": "stdout",
       "text": [
        "/home/panos/notebooks/Python_Classes\n"
       ]
      }
     ],
     "prompt_number": 16
    },
    {
     "cell_type": "code",
     "collapsed": false,
     "input": [
      "cd ./first_class/new_folder/"
     ],
     "language": "python",
     "metadata": {},
     "outputs": [
      {
       "output_type": "stream",
       "stream": "stdout",
       "text": [
        "/home/panos/notebooks/Python_Classes/first_class/new_folder\n"
       ]
      }
     ],
     "prompt_number": 17
    },
    {
     "cell_type": "code",
     "collapsed": false,
     "input": [
      "cd ../.."
     ],
     "language": "python",
     "metadata": {},
     "outputs": [
      {
       "output_type": "stream",
       "stream": "stdout",
       "text": [
        "/home/panos/notebooks/Python_Classes\n"
       ]
      }
     ],
     "prompt_number": 18
    },
    {
     "cell_type": "code",
     "collapsed": false,
     "input": [
      "mkdir ./first_class/another_folder"
     ],
     "language": "python",
     "metadata": {},
     "outputs": [],
     "prompt_number": 19
    },
    {
     "cell_type": "code",
     "collapsed": false,
     "input": [
      "cd ./first_class/another_folder/"
     ],
     "language": "python",
     "metadata": {},
     "outputs": [
      {
       "output_type": "stream",
       "stream": "stdout",
       "text": [
        "/home/panos/notebooks/Python_Classes/first_class/another_folder\n"
       ]
      }
     ],
     "prompt_number": 20
    },
    {
     "cell_type": "code",
     "collapsed": false,
     "input": [
      "cd ../new_folder/"
     ],
     "language": "python",
     "metadata": {},
     "outputs": [
      {
       "output_type": "stream",
       "stream": "stdout",
       "text": [
        "/home/panos/notebooks/Python_Classes/first_class/new_folder\n"
       ]
      }
     ],
     "prompt_number": 21
    },
    {
     "cell_type": "code",
     "collapsed": false,
     "input": [
      "!touch ./text_file.txt"
     ],
     "language": "python",
     "metadata": {},
     "outputs": [],
     "prompt_number": 24
    },
    {
     "cell_type": "code",
     "collapsed": false,
     "input": [
      "ls"
     ],
     "language": "python",
     "metadata": {},
     "outputs": [
      {
       "output_type": "stream",
       "stream": "stdout",
       "text": [
        "text_file.txt\r\n"
       ]
      }
     ],
     "prompt_number": 25
    },
    {
     "cell_type": "markdown",
     "metadata": {},
     "source": [
      "## rm\n",
      "'remove'"
     ]
    },
    {
     "cell_type": "code",
     "collapsed": false,
     "input": [
      "rm ./text_file.txt"
     ],
     "language": "python",
     "metadata": {},
     "outputs": [],
     "prompt_number": 26
    },
    {
     "cell_type": "code",
     "collapsed": false,
     "input": [
      "cd .."
     ],
     "language": "python",
     "metadata": {},
     "outputs": [
      {
       "output_type": "stream",
       "stream": "stdout",
       "text": [
        "/home/panos/notebooks/Python_Classes/first_class\n"
       ]
      }
     ],
     "prompt_number": 27
    },
    {
     "cell_type": "code",
     "collapsed": false,
     "input": [
      "ls"
     ],
     "language": "python",
     "metadata": {},
     "outputs": [
      {
       "output_type": "stream",
       "stream": "stdout",
       "text": [
        "\u001b[0m\u001b[01;34manother_folder\u001b[0m/  \u001b[01;34mnew_folder\u001b[0m/\r\n",
        "\u001b[m"
       ]
      }
     ],
     "prompt_number": 29
    },
    {
     "cell_type": "code",
     "collapsed": false,
     "input": [
      "!touch ./new_folder/a_text.txt"
     ],
     "language": "python",
     "metadata": {},
     "outputs": [],
     "prompt_number": 30
    },
    {
     "cell_type": "markdown",
     "metadata": {},
     "source": [
      "##rm -r\n",
      "'remove recursively'"
     ]
    },
    {
     "cell_type": "code",
     "collapsed": false,
     "input": [
      "rm -r ./new_folder/"
     ],
     "language": "python",
     "metadata": {},
     "outputs": [],
     "prompt_number": 31
    },
    {
     "cell_type": "code",
     "collapsed": false,
     "input": [
      "ls"
     ],
     "language": "python",
     "metadata": {},
     "outputs": [
      {
       "output_type": "stream",
       "stream": "stdout",
       "text": [
        "\u001b[0m\u001b[01;34manother_folder\u001b[0m/\r\n",
        "\u001b[m"
       ]
      }
     ],
     "prompt_number": 32
    },
    {
     "cell_type": "markdown",
     "metadata": {},
     "source": [
      "##Back to that 'first program'"
     ]
    },
    {
     "cell_type": "code",
     "collapsed": false,
     "input": [
      "ls "
     ],
     "language": "python",
     "metadata": {},
     "outputs": [
      {
       "output_type": "stream",
       "stream": "stdout",
       "text": [
        "#10_Control_FLow.ipynb\r\n",
        "#1_Introduction.html\r\n",
        "#1_Introduction.ipynb\r\n",
        "#2_Variables-assignment.ipynb\r\n",
        "#3_Strings.ipynb\r\n",
        "#4_Lists.ipynb\r\n",
        "#5_For_Loops.ipynb\r\n",
        "#6_Exercises.ipynb\r\n",
        "#7_If_else_booleans_and_booleans_operators.ipynb\r\n",
        "#8_answers.ipynb\r\n",
        "#8_Exercises.ipynb\r\n",
        "#9_Data_Structures.ipynb\r\n",
        "common-confusions.ipynb\r\n",
        "\u001b[0m\u001b[01;34mfirst_class\u001b[0m/\r\n",
        "functions-using.ipynb\r\n",
        "functions-writing.ipynb\r\n",
        "matplotlib.ipynb\r\n",
        "numpy.ipynb\r\n",
        "Resources.ipynb\r\n",
        "statistics.ipynb\r\n",
        "while-loops.ipynb\r\n",
        "\u001b[m"
       ]
      }
     ],
     "prompt_number": 1
    },
    {
     "cell_type": "code",
     "collapsed": false,
     "input": [
      "rm -r another_folder/"
     ],
     "language": "python",
     "metadata": {},
     "outputs": [],
     "prompt_number": 34
    },
    {
     "cell_type": "code",
     "collapsed": false,
     "input": [
      "pwd"
     ],
     "language": "python",
     "metadata": {},
     "outputs": [
      {
       "metadata": {},
       "output_type": "pyout",
       "prompt_number": 35,
       "text": [
        "'/home/panos/notebooks/Python_Classes/first_class'"
       ]
      }
     ],
     "prompt_number": 35
    },
    {
     "cell_type": "code",
     "collapsed": false,
     "input": [
      "!touch hello.py"
     ],
     "language": "python",
     "metadata": {},
     "outputs": [],
     "prompt_number": 36
    },
    {
     "cell_type": "markdown",
     "metadata": {},
     "source": [
      "###inside the hello.py:\n",
      "print('Hello World!')"
     ]
    },
    {
     "cell_type": "markdown",
     "metadata": {},
     "source": [
      "###Back in the command line:\n",
      "python hello.py"
     ]
    },
    {
     "cell_type": "code",
     "collapsed": false,
     "input": [],
     "language": "python",
     "metadata": {},
     "outputs": []
    }
   ],
   "metadata": {}
  }
 ]
}