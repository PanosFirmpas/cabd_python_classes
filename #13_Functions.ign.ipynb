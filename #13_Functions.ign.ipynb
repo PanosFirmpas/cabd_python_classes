{
 "metadata": {
  "name": "",
  "signature": "sha256:c14a92e6cd2549e150bce1a1310e97de94652036fd41b0f3d0f218edbbbf189b"
 },
 "nbformat": 3,
 "nbformat_minor": 0,
 "worksheets": [
  {
   "cells": [
    {
     "cell_type": "markdown",
     "metadata": {},
     "source": [
      "\n",
      "### <u>Fun</u>ctions\n",
      "\n",
      "<i>A function is a block of organized, reusable code that is used to perform a single, related action. Functions provide better modularity for your application and a high degree of code reusing.</i>\n",
      "\n",
      "\n",
      "Healthy programming, among others, involves the following:\n",
      "* Never re-write code\n",
      "* Keep things simple and easy to read\n",
      "\n",
      "Functions are a very good way of doing bothe the above.\n",
      "\n",
      "\n",
      "Let's assume you have a big program, dealing with many lists. One of the things you will often do when dealing with a list is measure its length. Now this is a pretty simple task that can be achieved in a couple lines of code:\n"
     ]
    },
    {
     "cell_type": "code",
     "collapsed": false,
     "input": [
      "l = [1,4,2,6,7,6,2,7,6,2,4,6,2,4,6]\n",
      "\n",
      "count=0\n",
      "for i in l:\n",
      "    count += 1\n",
      "count"
     ],
     "language": "python",
     "metadata": {},
     "outputs": [
      {
       "metadata": {},
       "output_type": "pyout",
       "prompt_number": 1,
       "text": [
        "15"
       ]
      }
     ],
     "prompt_number": 1
    },
    {
     "cell_type": "markdown",
     "metadata": {},
     "source": [
      "So it actually took us 3 lines of code, but in a big program writing these three lines again and again clutters your code,\n",
      "making it less readable.\n",
      "\n",
      "This is such a basic task that python includes a function for it in the core library (you don't need to import anything to use it)"
     ]
    },
    {
     "cell_type": "code",
     "collapsed": false,
     "input": [
      "len(l)"
     ],
     "language": "python",
     "metadata": {},
     "outputs": [
      {
       "metadata": {},
       "output_type": "pyout",
       "prompt_number": 2,
       "text": [
        "15"
       ]
      }
     ],
     "prompt_number": 2
    },
    {
     "cell_type": "markdown",
     "metadata": {},
     "source": [
      "Isn't this much better?\n"
     ]
    },
    {
     "cell_type": "markdown",
     "metadata": {},
     "source": [
      "###Writting our own functions is pretty simple.\n",
      "\n",
      "<code>\n",
      "**def**  function_name(argument1, argument2):\n",
      "        do something\n",
      "        do something more\n",
      "        \n",
      "        return something\n",
      "</code>\n",
      "\n",
      "def is the keyword that signifies we want to **define** a new function.\n",
      "\n",
      "The function_name can be whatever you want, as long as it is not the same as an already used name in your code (or in python's library, for example you can't define a function named *len* you should instead call it something like *my_len*\n",
      "\n",
      "the **return** command exits the function and returns whatever is to the right of it. Everything written after a return command will not be executed"
     ]
    },
    {
     "cell_type": "code",
     "collapsed": false,
     "input": [
      "def square(number):\n",
      "    local_variable = number*number\n",
      "    return local_variable\n",
      "    print(\"This will not be printed\")\n",
      "    \n",
      "a = square(5)\n",
      "print(a)"
     ],
     "language": "python",
     "metadata": {},
     "outputs": [
      {
       "output_type": "stream",
       "stream": "stdout",
       "text": [
        "25\n"
       ]
      }
     ],
     "prompt_number": 3
    },
    {
     "cell_type": "code",
     "collapsed": false,
     "input": [
      "def square(number):\n",
      "    local_variable = number*number\n",
      "    print(\"This will be printed when the function is called\")\n",
      "    return local_variable\n",
      "    \n",
      "    \n",
      "a = square(5)\n",
      "print(a)"
     ],
     "language": "python",
     "metadata": {},
     "outputs": [
      {
       "output_type": "stream",
       "stream": "stdout",
       "text": [
        "This will be printed when the function is called\n",
        "25\n"
       ]
      }
     ],
     "prompt_number": 4
    },
    {
     "cell_type": "code",
     "collapsed": false,
     "input": [
      "def square(number):\n",
      "    local_variable = number*number\n",
      "    if number > 5:\n",
      "        \n",
      "        print(\"This will be printed when the number argument is >5\")\n",
      "    return local_variable\n",
      "    \n",
      "    \n",
      "a = square(5)\n",
      "print(a)\n",
      "\n",
      "a = square(7)\n",
      "print(a)"
     ],
     "language": "python",
     "metadata": {},
     "outputs": [
      {
       "output_type": "stream",
       "stream": "stdout",
       "text": [
        "25\n",
        "This will be printed when the number argument is >5\n",
        "49\n"
       ]
      }
     ],
     "prompt_number": 8
    },
    {
     "cell_type": "markdown",
     "metadata": {},
     "source": [
      "<b> If a function's code finishes without a return statement, it will simply not return anything:\n"
     ]
    },
    {
     "cell_type": "code",
     "collapsed": false,
     "input": [
      "\n",
      "def square(number):\n",
      "    local_variable = number*number\n",
      "    if local_variable >= 60:\n",
      "        return local_variable\n",
      " \n",
      "#the function doesn't return anything, so a gets a None value\n",
      "a = square(5)\n",
      "print(a)\n"
     ],
     "language": "python",
     "metadata": {},
     "outputs": [
      {
       "output_type": "stream",
       "stream": "stdout",
       "text": [
        "None\n"
       ]
      }
     ],
     "prompt_number": 32
    },
    {
     "cell_type": "markdown",
     "metadata": {},
     "source": [
      "<b> A function can return more than one arguments:"
     ]
    },
    {
     "cell_type": "code",
     "collapsed": false,
     "input": [
      "def mymy():\n",
      "    return 1,2,3,4,5\n",
      "\n",
      "a = mymy()\n",
      "print(a)"
     ],
     "language": "python",
     "metadata": {},
     "outputs": [
      {
       "output_type": "stream",
       "stream": "stdout",
       "text": [
        "(1, 2, 3, 4, 5)\n"
       ]
      }
     ],
     "prompt_number": 34
    },
    {
     "cell_type": "code",
     "collapsed": false,
     "input": [
      "#This is called unpacking:\n",
      "a,b,c,d,e = mymy()\n",
      "\n",
      "print(c)"
     ],
     "language": "python",
     "metadata": {},
     "outputs": [
      {
       "output_type": "stream",
       "stream": "stdout",
       "text": [
        "3\n"
       ]
      }
     ],
     "prompt_number": 35
    },
    {
     "cell_type": "markdown",
     "metadata": {},
     "source": [
      "<b> Variables that are created inside functions only exist inside the function itsself and cannot be accesed outside of it"
     ]
    },
    {
     "cell_type": "code",
     "collapsed": false,
     "input": [
      "def square(number):\n",
      "    local_variable = number*number\n",
      "    return local_variable\n",
      "    \n",
      "\n",
      "#What happens here is that square(5) is calculated and its value (25) is assigned to a\n",
      "#python doesn't know what 'local_variable' is outside the square function\n",
      "a = square(5)\n",
      "print(local_variable)\n"
     ],
     "language": "python",
     "metadata": {},
     "outputs": [
      {
       "ename": "NameError",
       "evalue": "name 'local_variable' is not defined",
       "output_type": "pyerr",
       "traceback": [
        "\u001b[1;31m---------------------------------------------------------------------------\u001b[0m\n\u001b[1;31mNameError\u001b[0m                                 Traceback (most recent call last)",
        "\u001b[1;32m<ipython-input-12-9ba10c68bf90>\u001b[0m in \u001b[0;36m<module>\u001b[1;34m()\u001b[0m\n\u001b[0;32m      7\u001b[0m \u001b[1;31m#python doesn't know what 'local_variable' is outside the square function\u001b[0m\u001b[1;33m\u001b[0m\u001b[1;33m\u001b[0m\u001b[0m\n\u001b[0;32m      8\u001b[0m \u001b[0ma\u001b[0m \u001b[1;33m=\u001b[0m \u001b[0msquare\u001b[0m\u001b[1;33m(\u001b[0m\u001b[1;36m5\u001b[0m\u001b[1;33m)\u001b[0m\u001b[1;33m\u001b[0m\u001b[0m\n\u001b[1;32m----> 9\u001b[1;33m \u001b[0mprint\u001b[0m\u001b[1;33m(\u001b[0m\u001b[0mlocal_variable\u001b[0m\u001b[1;33m)\u001b[0m\u001b[1;33m\u001b[0m\u001b[0m\n\u001b[0m",
        "\u001b[1;31mNameError\u001b[0m: name 'local_variable' is not defined"
       ]
      }
     ],
     "prompt_number": 12
    },
    {
     "cell_type": "markdown",
     "metadata": {},
     "source": [
      "<b> But functions can access variables declared outside of them"
     ]
    },
    {
     "cell_type": "code",
     "collapsed": false,
     "input": [
      "b = 33\n",
      "\n",
      "def square(number):\n",
      "    local_variable = number*number\n",
      "    print(\"I can see that b has a value of {0}\".format(b))\n",
      "    return local_variable\n",
      "    \n",
      "    \n",
      "a = square(5)\n",
      "print(a)"
     ],
     "language": "python",
     "metadata": {},
     "outputs": [
      {
       "output_type": "stream",
       "stream": "stdout",
       "text": [
        "I can see that b has a value of 33\n",
        "25\n"
       ]
      }
     ],
     "prompt_number": 15
    },
    {
     "cell_type": "markdown",
     "metadata": {},
     "source": [
      "<b> But they cannot change them"
     ]
    },
    {
     "cell_type": "code",
     "collapsed": false,
     "input": [
      "b = 33\n",
      "\n",
      "def square(number):\n",
      "    local_variable = number*number\n",
      "    b = 50\n",
      "    return local_variable\n",
      "    \n",
      "print(b)"
     ],
     "language": "python",
     "metadata": {},
     "outputs": [
      {
       "output_type": "stream",
       "stream": "stdout",
       "text": [
        "33\n"
       ]
      }
     ],
     "prompt_number": 14
    },
    {
     "cell_type": "markdown",
     "metadata": {},
     "source": [
      "### Arguments\n",
      "\n",
      "A function can have no arguments:"
     ]
    },
    {
     "cell_type": "code",
     "collapsed": false,
     "input": [
      "def say_hi():\n",
      "    hi = \"Hello World\"\n",
      "    print(hi)\n",
      "\n",
      "    \n",
      "say_hi()"
     ],
     "language": "python",
     "metadata": {},
     "outputs": [
      {
       "output_type": "stream",
       "stream": "stdout",
       "text": [
        "Hello World\n"
       ]
      }
     ],
     "prompt_number": 23
    },
    {
     "cell_type": "markdown",
     "metadata": {},
     "source": [
      "<b> You can set a default value for your arguments, but only for the ones at the end of the argument list\n",
      "\n",
      "This is how this works:\n",
      "\n"
     ]
    },
    {
     "cell_type": "code",
     "collapsed": false,
     "input": [
      "def my_print(ms1,ms2,ms3=\"I'm 3\"):\n",
      "        print(ms1,ms2,ms3)\n",
      "        \n",
      "my_print(\"Now I give a \",\"ms3 argument:\",\"I am three\")\n",
      "my_print(\"Now I DON'T give a \",\"ms3 argument:\")"
     ],
     "language": "python",
     "metadata": {},
     "outputs": [
      {
       "output_type": "stream",
       "stream": "stdout",
       "text": [
        "Now I give a  ms3 argument: I am three\n",
        "Now I DON'T give a  ms3 argument: I'm 3\n"
       ]
      }
     ],
     "prompt_number": 28
    },
    {
     "cell_type": "code",
     "collapsed": false,
     "input": [
      "def my_print(ms1,ms2,ms3=\"I'm 3\",ms4):\n",
      "        print(ms1,ms2,ms3)\n",
      "        \n",
      "my_print(\"Now I give a \",\"ms3 argument:\",\"I am three\")\n",
      "my_print(\"Now I DON'T give a \",\"ms3 argument:\")"
     ],
     "language": "python",
     "metadata": {},
     "outputs": [
      {
       "ename": "SyntaxError",
       "evalue": "non-default argument follows default argument (<ipython-input-29-151ae4e09738>, line 1)",
       "output_type": "pyerr",
       "traceback": [
        "\u001b[1;36m  File \u001b[1;32m\"<ipython-input-29-151ae4e09738>\"\u001b[1;36m, line \u001b[1;32m1\u001b[0m\n\u001b[1;33m    def my_print(ms1,ms2,ms3=\"I'm 3\",ms4):\u001b[0m\n\u001b[1;37m                ^\u001b[0m\n\u001b[1;31mSyntaxError\u001b[0m\u001b[1;31m:\u001b[0m non-default argument follows default argument\n"
       ]
      }
     ],
     "prompt_number": 29
    },
    {
     "cell_type": "markdown",
     "metadata": {},
     "source": [
      "<b> You should give a function exactly as many non-default arguments as it expects"
     ]
    },
    {
     "cell_type": "code",
     "collapsed": false,
     "input": [
      "def my_print(ms1,ms2):\n",
      "        print(ms1,ms2)\n",
      "        \n",
      "my_print(\"Now I give less \")\n"
     ],
     "language": "python",
     "metadata": {},
     "outputs": [
      {
       "ename": "TypeError",
       "evalue": "my_print() missing 1 required positional argument: 'ms2'",
       "output_type": "pyerr",
       "traceback": [
        "\u001b[1;31m---------------------------------------------------------------------------\u001b[0m\n\u001b[1;31mTypeError\u001b[0m                                 Traceback (most recent call last)",
        "\u001b[1;32m<ipython-input-30-73bd7bc22ad0>\u001b[0m in \u001b[0;36m<module>\u001b[1;34m()\u001b[0m\n\u001b[0;32m      2\u001b[0m         \u001b[0mprint\u001b[0m\u001b[1;33m(\u001b[0m\u001b[0mms1\u001b[0m\u001b[1;33m,\u001b[0m\u001b[0mms2\u001b[0m\u001b[1;33m)\u001b[0m\u001b[1;33m\u001b[0m\u001b[0m\n\u001b[0;32m      3\u001b[0m \u001b[1;33m\u001b[0m\u001b[0m\n\u001b[1;32m----> 4\u001b[1;33m \u001b[0mmy_print\u001b[0m\u001b[1;33m(\u001b[0m\u001b[1;34m\"Now I give less \"\u001b[0m\u001b[1;33m)\u001b[0m\u001b[1;33m\u001b[0m\u001b[0m\n\u001b[0m",
        "\u001b[1;31mTypeError\u001b[0m: my_print() missing 1 required positional argument: 'ms2'"
       ]
      }
     ],
     "prompt_number": 30
    },
    {
     "cell_type": "code",
     "collapsed": false,
     "input": [
      "my_print(\"Now I \",\"give\",\"more\")"
     ],
     "language": "python",
     "metadata": {},
     "outputs": [
      {
       "ename": "TypeError",
       "evalue": "my_print() takes 2 positional arguments but 3 were given",
       "output_type": "pyerr",
       "traceback": [
        "\u001b[1;31m---------------------------------------------------------------------------\u001b[0m\n\u001b[1;31mTypeError\u001b[0m                                 Traceback (most recent call last)",
        "\u001b[1;32m<ipython-input-31-d9044bb866d0>\u001b[0m in \u001b[0;36m<module>\u001b[1;34m()\u001b[0m\n\u001b[1;32m----> 1\u001b[1;33m \u001b[0mmy_print\u001b[0m\u001b[1;33m(\u001b[0m\u001b[1;34m\"Now I \"\u001b[0m\u001b[1;33m,\u001b[0m\u001b[1;34m\"give\"\u001b[0m\u001b[1;33m,\u001b[0m\u001b[1;34m\"more\"\u001b[0m\u001b[1;33m)\u001b[0m\u001b[1;33m\u001b[0m\u001b[0m\n\u001b[0m",
        "\u001b[1;31mTypeError\u001b[0m: my_print() takes 2 positional arguments but 3 were given"
       ]
      }
     ],
     "prompt_number": 31
    },
    {
     "cell_type": "code",
     "collapsed": false,
     "input": [],
     "language": "python",
     "metadata": {},
     "outputs": []
    }
   ],
   "metadata": {}
  }
 ]
}