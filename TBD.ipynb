{
 "metadata": {
  "name": "",
  "signature": "sha256:5d3ce30fab05338429fd7f73f81a7a71e1911df4ffc627cb3e17de79e8974307"
 },
 "nbformat": 3,
 "nbformat_minor": 0,
 "worksheets": [
  {
   "cells": [
    {
     "cell_type": "code",
     "collapsed": false,
     "input": [],
     "language": "python",
     "metadata": {},
     "outputs": []
    }
   ],
   "metadata": {}
  }
 ]
}