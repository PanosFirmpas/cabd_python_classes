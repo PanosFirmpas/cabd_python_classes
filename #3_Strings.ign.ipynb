{
 "metadata": {
  "name": "",
  "signature": "sha256:0dc01a7c2afe74d9bfce7f7f5c7db830a1876127e943662f9f757297e0b7e45c"
 },
 "nbformat": 3,
 "nbformat_minor": 0,
 "worksheets": [
  {
   "cells": [
    {
     "cell_type": "markdown",
     "metadata": {},
     "source": [
      "# Strings\n",
      "We use text all the time in science and computing to store information like:\n",
      "\n",
      "* Species names\n",
      "* Site names\n",
      "* Genetic sequences\n",
      "* Information about methods\n",
      "\n",
      "In Python we store this kind of data in strings.\n",
      "\n",
      "## Types\n",
      "Strings can have one of two major types in Python:\n",
      "\n",
      "* str: which handles all of the characters in the Latin alphabet (basically anything you'll find on a keyboard in North America)\n",
      "* unicode: which handles basically anything that would be a on keyboard anywhere\n",
      "\n",
      "We'll work with str here, but everything is basically the same using unicode."
     ]
    },
    {
     "cell_type": "markdown",
     "metadata": {},
     "source": [
      "Creating strings\n",
      "----------------\n",
      "Strings are created using either single or double quotes. It doesn't typically matter which kind of quotes you use, but they do need to match."
     ]
    },
    {
     "cell_type": "code",
     "collapsed": false,
     "input": [
      "genus = 'Dipodomys'\n",
      "species = \"spectabilis\"\n",
      "print(genus)\n",
      "print(species)"
     ],
     "language": "python",
     "metadata": {},
     "outputs": [
      {
       "output_type": "stream",
       "stream": "stdout",
       "text": [
        "Dipodomys\n",
        "spectabilis\n"
       ]
      }
     ],
     "prompt_number": 1
    },
    {
     "cell_type": "markdown",
     "metadata": {},
     "source": [
      "If we want to create a string that has multiple lines we can do this using triple quotes."
     ]
    },
    {
     "cell_type": "code",
     "collapsed": false,
     "input": [
      "ds_description = \"\"\"Dipodomys spectabilis is the\n",
      "scientific name for the\n",
      "Banner-tailed Kangaroo Rat.\"\"\"\n",
      "print(ds_description)"
     ],
     "language": "python",
     "metadata": {},
     "outputs": [
      {
       "output_type": "stream",
       "stream": "stdout",
       "text": [
        "Dipodomys spectabilis is the\n",
        "scientific name for the\n",
        "Banner-tailed Kangaroo Rat.\n"
       ]
      }
     ],
     "prompt_number": 3
    },
    {
     "cell_type": "markdown",
     "metadata": {},
     "source": [
      "## Concatenating strings\n",
      "We can combine strings using the + operator."
     ]
    },
    {
     "cell_type": "code",
     "collapsed": false,
     "input": [
      "print(genus + species + 'weighs about 125 grams.')"
     ],
     "language": "python",
     "metadata": {},
     "outputs": [
      {
       "output_type": "stream",
       "stream": "stdout",
       "text": [
        "Dipodomysspectabilisweighs about 125 grams.\n"
       ]
      }
     ],
     "prompt_number": 4
    },
    {
     "cell_type": "markdown",
     "metadata": {},
     "source": [
      "If we want spaces between words we need to add them explicitly."
     ]
    },
    {
     "cell_type": "code",
     "collapsed": false,
     "input": [
      "print(genus + ' ' + species + ' weighs about 125 grams.')"
     ],
     "language": "python",
     "metadata": {},
     "outputs": [
      {
       "output_type": "stream",
       "stream": "stdout",
       "text": [
        "Dipodomys spectabilis weighs about 125 grams.\n"
       ]
      }
     ],
     "prompt_number": 5
    },
    {
     "cell_type": "markdown",
     "metadata": {},
     "source": [
      "## Formatted strings\n",
      "A better way to achieve this type of output in Python is using formatted strings. Everywhere we want to place a variable or a value in the string we place a % followed by a letter that tells it how we want the information formatted (like a string, an integer, a float, etc.) then after the string we add a % and then a comma separated list of the values/variables to insert in parentheses."
     ]
    },
    {
     "cell_type": "code",
     "collapsed": false,
     "input": [
      "output = \"{0} {1} weighs about {2} grams.\".format(genus, species, 125)\n",
      "print(output)"
     ],
     "language": "python",
     "metadata": {},
     "outputs": [
      {
       "output_type": "stream",
       "stream": "stdout",
       "text": [
        "Dipodomys spectabilis weighs about 125 grams.\n"
       ]
      }
     ],
     "prompt_number": 7
    },
    {
     "cell_type": "markdown",
     "metadata": {},
     "source": [
      "## Escape Characters\n",
      "Sometimes in programming we need to change the way a character works, or add a special character to a string. To do this we use escape characters. For example, what if we want to include an apostrophy in a string? If we just add it then things go wrong:"
     ]
    },
    {
     "cell_type": "code",
     "collapsed": false,
     "input": [
      "print('The individual's mass is 122 grams.')"
     ],
     "language": "python",
     "metadata": {},
     "outputs": [
      {
       "ename": "SyntaxError",
       "evalue": "invalid syntax (<ipython-input-8-cd1ab404344a>, line 1)",
       "output_type": "pyerr",
       "traceback": [
        "\u001b[1;36m  File \u001b[1;32m\"<ipython-input-8-cd1ab404344a>\"\u001b[1;36m, line \u001b[1;32m1\u001b[0m\n\u001b[1;33m    print('The individual's mass is 122 grams.')\u001b[0m\n\u001b[1;37m                          ^\u001b[0m\n\u001b[1;31mSyntaxError\u001b[0m\u001b[1;31m:\u001b[0m invalid syntax\n"
       ]
      }
     ],
     "prompt_number": 8
    },
    {
     "cell_type": "markdown",
     "metadata": {},
     "source": [
      "This happens because when Python encounters the apostrophy it thinks we're telling it to end the string and it doesn't understand what all of the stuff coming after the string is.\n",
      "\n",
      "To tell Python that we actually want an apostrophy we use an escape character, the \\ in this case, so instead of typing ' we type \\'"
     ]
    },
    {
     "cell_type": "code",
     "collapsed": false,
     "input": [
      "print('The individual\\'s mass is 122 grams.')"
     ],
     "language": "python",
     "metadata": {},
     "outputs": [
      {
       "output_type": "stream",
       "stream": "stdout",
       "text": [
        "The individual's mass is 122 grams.\n"
       ]
      }
     ],
     "prompt_number": 9
    },
    {
     "cell_type": "markdown",
     "metadata": {},
     "source": [
      "Other escape characters include:\n",
      "\n",
      "* \\\" - Double quotation mark\n",
      "* \\t - Tab\n",
      "* \\n - New line\n",
      "* \\\\\\\\ - Backslash\n",
      "\n",
      "Doubling up the escape character to get the character itself is the standard approach to handling that character.\n",
      "\n",
      "In fact, if we look at our multi-line string from above, we'll see that it is actually just a regular string, with some new lines inserted using \\n."
     ]
    },
    {
     "cell_type": "code",
     "collapsed": false,
     "input": [
      "ds_description"
     ],
     "language": "python",
     "metadata": {},
     "outputs": [
      {
       "metadata": {},
       "output_type": "pyout",
       "prompt_number": 12,
       "text": [
        "'Dipodomys spectabilis is the\\nscientific name for the\\nBanner-tailed Kangaroo Rat.'"
       ]
      }
     ],
     "prompt_number": 12
    },
    {
     "cell_type": "markdown",
     "metadata": {},
     "source": [
      "Because Python allows both single quotes and double quotes, there is also an easy way to avoid escaping characters in some cases. For example,"
     ]
    },
    {
     "cell_type": "code",
     "collapsed": false,
     "input": [
      "print(\"The individuals's mass is 122 grams.\")\n",
      "print('The original paper states that \"The mass of Dipodomys spectabilis is approximately 125 grams.\"')"
     ],
     "language": "python",
     "metadata": {},
     "outputs": [
      {
       "output_type": "stream",
       "stream": "stdout",
       "text": [
        "The individuals's mass is 122 grams.\n",
        "The original paper states that \"The mass of Dipodomys spectabilis is approximately 125 grams.\"\n"
       ]
      }
     ],
     "prompt_number": 13
    },
    {
     "cell_type": "markdown",
     "metadata": {},
     "source": [
      "###Exercises\n"
     ]
    },
    {
     "cell_type": "markdown",
     "metadata": {},
     "source": [
      "What will be the result of the following?"
     ]
    },
    {
     "cell_type": "code",
     "collapsed": false,
     "input": [
      "a = 5\n",
      "b = 3\n",
      "a_s = '5'\n",
      "b_s = '3'\n"
     ],
     "language": "python",
     "metadata": {},
     "outputs": [],
     "prompt_number": 14
    },
    {
     "cell_type": "code",
     "collapsed": false,
     "input": [
      "c = a + b\n"
     ],
     "language": "python",
     "metadata": {},
     "outputs": [],
     "prompt_number": 17
    },
    {
     "cell_type": "code",
     "collapsed": false,
     "input": [
      "c = a_s + b_s\n"
     ],
     "language": "python",
     "metadata": {},
     "outputs": [],
     "prompt_number": 19
    },
    {
     "cell_type": "code",
     "collapsed": false,
     "input": [
      "c = a_s + b"
     ],
     "language": "python",
     "metadata": {},
     "outputs": [],
     "prompt_number": 20
    },
    {
     "cell_type": "markdown",
     "metadata": {},
     "source": [
      "Using sys.argv, make a script that says hello and calls you by name:"
     ]
    },
    {
     "cell_type": "code",
     "collapsed": false,
     "input": [
      "import sys\n",
      "\n",
      "my_name = sys.argv[1]\n",
      "print('Hello {0}, nice to meet you!'.format(my_name))"
     ],
     "language": "python",
     "metadata": {},
     "outputs": []
    }
   ],
   "metadata": {}
  }
 ]
}