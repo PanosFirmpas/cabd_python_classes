{
 "metadata": {
  "name": "",
  "signature": "sha256:bfeab17143f339fc4599731853f6ffd9fecd37a41472dc4ecc423d3338ec63fe"
 },
 "nbformat": 3,
 "nbformat_minor": 0,
 "worksheets": [
  {
   "cells": [
    {
     "cell_type": "markdown",
     "metadata": {},
     "source": [
      "### Count nucleotides in a string (we did this already)\n",
      "### Transcribe a DNA string (replace Ts with Us)\n"
     ]
    },
    {
     "cell_type": "code",
     "collapsed": false,
     "input": [
      "dna = \"ATCGATCGACTAGCTAGCATGCATCGACTAGCTAGCTGATCACTAGCGATCGACTAGCTACGATCGATGCTAGCTAGCTACGATCGATCGTAGCTAGCTAGCATGCAT\"\n",
      "\n",
      "#This is very easy in Python:\n",
      "rna = dna.replace('T','U')\n",
      "print(rna)\n",
      "\n",
      "#a more hands on approach:\n",
      "rna=''\n",
      "for c in dna:\n",
      "    if c == 'T':\n",
      "        rna += 'U'\n",
      "    else:\n",
      "        rna += c\n",
      "print(rna)"
     ],
     "language": "python",
     "metadata": {},
     "outputs": [
      {
       "output_type": "stream",
       "stream": "stdout",
       "text": [
        "AUCGAUCGACUAGCUAGCAUGCAUCGACUAGCUAGCUGAUCACUAGCGAUCGACUAGCUACGAUCGAUGCUAGCUAGCUACGAUCGAUCGUAGCUAGCUAGCAUGCAU\n",
        "AUCGAUCGACUAGCUAGCAUGCAUCGACUAGCUAGCUGAUCACUAGCGAUCGACUAGCUACGAUCGAUGCUAGCUAGCUACGAUCGAUCGUAGCUAGCUAGCAUGCAU\n"
       ]
      }
     ],
     "prompt_number": 2
    },
    {
     "cell_type": "markdown",
     "metadata": {},
     "source": [
      "### Get the reverse complement of a dna string\n"
     ]
    },
    {
     "cell_type": "code",
     "collapsed": false,
     "input": [
      "dna = \"AAATTTCCCGGG\"\n",
      "print('dna: ',dna)\n",
      "#We can break this in two steps, one is to reverse the string and the other is to make the complementary\n",
      "reverse = dna[::-1] #get the dna string, going back one position at a time (This is very \"pythonic\")\n",
      "\n",
      "print('reverse: ',reverse)\n",
      "\n",
      "#Another way is the reversed() function\n",
      "\n",
      "#Unfortunately this returns an iterator of single character strings. We can use the join() function of strings\n",
      "# to join the iterator back into a string:\n",
      "\n",
      "reverse = ''.join(reversed(dna)) #join the elements of reversed(dna) with an empty string\n",
      "print('reverse: ',reverse)\n",
      "\n",
      "\n",
      "weird_example = '###'.join(reversed(dna))\n",
      "print('weird_example: ',weird_example)\n",
      "\n",
      "\n",
      "#Now to complement\n",
      "rev_c = reverse.replace('G','C')\n",
      "print('rev_c: ',rev_c)\n",
      "#Well now we have double Cs and can't replace the original ones with Gs...\n",
      "\n",
      "#We can use a trick:\n",
      "rev_c = reverse.replace('G','x')\n",
      "rev_c = rev_c.replace('C','G')\n",
      "rev_c = rev_c.replace('x','C')\n",
      "print('rev_c: ',rev_c)\n",
      "#And then do the same for As and Ts:\n",
      "rev_c = rev_c.replace('A','x')\n",
      "rev_c = rev_c.replace('T','A')\n",
      "rev_c = rev_c.replace('x','T')\n",
      "print('rev_c: ',rev_c)\n",
      "\n",
      "#But this whole process is very cumbersone. There is a better way:\n",
      "#We will make a translating dicitonary. It assigns a \"translated\" value to each character:\n",
      "t_dic = {'A':'T', 'T':'A', 'G':'C', 'C':'G'}\n",
      "\n",
      "rev_c = ''\n",
      "for c in reverse:\n",
      "    rev_c += t_dic[c]\n",
      "\n",
      "print('rev_c: ',rev_c)\n",
      "\n",
      "#And this can be written in one line (this is slightly advanced but I think it's super fun:)\n",
      "reverse_complement = ''.join( [ t_dic[c] for c in reverse ] ) #This is called list compehension, \n",
      "print('rev_c: ',rev_c)\n",
      "    \n"
     ],
     "language": "python",
     "metadata": {},
     "outputs": [
      {
       "output_type": "stream",
       "stream": "stdout",
       "text": [
        "dna:  AAATTTCCCGGG\n",
        "reverse:  GGGCCCTTTAAA\n",
        "reverse:  GGGCCCTTTAAA\n",
        "weird_example:  G###G###G###C###C###C###T###T###T###A###A###A\n",
        "rev_c:  CCCCCCTTTAAA\n",
        "rev_c:  CCCGGGTTTAAA\n",
        "rev_c:  CCCGGGAAATTT\n",
        "rev_c:  CCCGGGAAATTT\n",
        "rev_c:  CCCGGGAAATTT\n"
       ]
      }
     ],
     "prompt_number": 17
    },
    {
     "cell_type": "markdown",
     "metadata": {},
     "source": [
      "### Wascally Wabbits\n",
      "\n",
      "*  A population begins in the first month with a pair of newborn rabbits.\n",
      "*  Rabbits reach reproductive age after one month.\n",
      "*  In any given month, every rabbit of reproductive age mates with another rabbit of reproductive age.\n",
      "*  Exactly one month after two rabbits mate, they produce one male and one female rabbit.\n",
      "*  Rabbits never die or stop reproducing.\n",
      "\n",
      "If we start with k pairs, how many pairs will exist after n months?"
     ]
    },
    {
     "cell_type": "code",
     "collapsed": false,
     "input": [
      "\n",
      "\n",
      "#In the first month\n",
      "young_rabbits = 1\n",
      "mature_rabbits = 0 \n",
      "\n",
      "\n",
      "months = [2,3,4,5]\n",
      "coefficient = 3\n",
      "month=1\n",
      "print(\"In month {0}, young rabbits are {1} , mature are {2} and total {3}\".format(month, young_rabbits, mature_rabbits,young_rabbits+mature_rabbits))\n",
      "\n",
      "for month in months:\n",
      "    \n",
      "    #First the rabbits mate\n",
      "    #How many rabbits will be born this month?\n",
      "    new_born_rabbits = mature_rabbits * coefficient\n",
      "    \n",
      "    #After using the number of mature rabits to calculate the new born ones\n",
      "    #We can now add to that number the amount of rabbits that will mature during the month\n",
      "    mature_rabbits = mature_rabbits + young_rabbits \n",
      "    \n",
      "    #Now that we've used the number of young rabbits to update the mature ones,\n",
      "    #we can consider the newly born ones as the new generation of young ones\n",
      "    young_rabbits = new_born_rabbits #Since the previous ones matured\n",
      "\n",
      "    print(\"In month {0}, young rabbits are {1} , mature are {2} and total {3}\".format(month, young_rabbits, mature_rabbits,young_rabbits+mature_rabbits))\n",
      "    \n",
      "\n",
      "#This boils down to computing a fibonaci like sequence where F(i) = F(-i) + F(i-2)*3\n",
      "# the rabbits of Nth month will be how many rabbits existed the previous month\n",
      "# plus all the new rabbits which is 3 rabbits for every one month old rabbit (how many rabbits existed 2 months ago)\n",
      "\n",
      "sequence = [1,1]\n",
      "\n",
      "for i in range(len(months)-1):\n",
      "    sequence.append(sequence[-1]+sequence[-2]*3)\n",
      "\n",
      "print(sequence)\n",
      "    \n",
      "\n"
     ],
     "language": "python",
     "metadata": {},
     "outputs": [
      {
       "output_type": "stream",
       "stream": "stdout",
       "text": [
        "In month 1, young rabbits are 1 , mature are 0 and total 1\n",
        "In month 2, young rabbits are 0 , mature are 1 and total 1\n",
        "In month 3, young rabbits are 3 , mature are 1 and total 4\n",
        "In month 4, young rabbits are 3 , mature are 4 and total 7\n",
        "In month 5, young rabbits are 12 , mature are 7 and total 19\n",
        "[1, 1, 4, 7, 19]\n"
       ]
      }
     ],
     "prompt_number": 43
    },
    {
     "cell_type": "markdown",
     "metadata": {},
     "source": [
      "###Identifying Unknown DNA Quickly\n",
      "\n",
      "Given: At most 10 DNA strings in FASTA format (of length at most 1 kbp each).\n",
      "\n",
      "Return: The ID of the string having the highest GC-content, followed by the GC-content of that string. Rosalind allows for a default error of 0.001 in all decimal answers unless otherwise stated; please see the note on absolute error below."
     ]
    },
    {
     "cell_type": "code",
     "collapsed": false,
     "input": [
      "inp = '''>Rosalind_6404\n",
      "CCTGCGGAAGATCGGCACTAGAATAGCCAGAACCGTTTCTCTGAGGCTTCCGGCCTTCCC\n",
      "TCCCACTAATAATTCTGAGG\n",
      ">Rosalind_5959\n",
      "CCATCGGTAGCGCATCCTTAGTCCAATTAAGTCCCTATCCAGGCGCTCCGCCGAAGGTCT\n",
      "ATATCCATTTGTCAGCAGACACGC\n",
      ">Rosalind_0808\n",
      "CCACCCTCGTGGTATGGCTAGGCATTCAGGAACCGGAGAACGCTTCAGACCAGCCCGGAC\n",
      "TGGGAACCTGCGGGCAGTAGGTGGAAT'''\n",
      "\n",
      "inp = inp.split('\\n') #break the string into a list, using the \\n to separate it\n",
      "#This makes it a lot like reading a file which we havent done yet.\n",
      "\n",
      "#We'll make a dictionary, each key will be a dna id and the values will be information about that id\n",
      "dnas={} #empty dictionary\n",
      "\n",
      "current_id = None #None is an empty variable that is evaluated as False (if None == False)\n",
      "\n",
      "\n",
      "for line in inp:\n",
      "    if line.startswith('>'): #.startswith() is a string function, it returns True or False\n",
      "        #we found a new id!\n",
      "        dna_id = line\n",
      "        #But we should remove the '>'\n",
      "        dna_id = dna_id[1:] #ignore the first character\n",
      "        \n",
      "        #Now that we have an id, we will make it our 'current_id', the id with which we are working\n",
      "        #This is not very necessary in this exercise, but it is very good practice\n",
      "        current_id = dna_id\n",
      "        \n",
      "        #We can now create the dictionary entry.\n",
      "        if dna_id not in dnas:\n",
      "            dnas[dna_id] = [] #Let's make the value a list for now, we will add the other strings in this list\n",
      "            \n",
      "    else:\n",
      "        #If our line doesn't start with >, we are reading a piece of DNA which belongs to our current id\n",
      "        dnas[current_id].append(line) #dnas[current_id] is a list, so it has an append function ;)\n",
      "        \n",
      "print(\"Let's see what we've done so far\")\n",
      "print(dnas)\n",
      "\n",
      "#Looks good !\n",
      "\n",
      "#Lets concatenate the list of dna strings for each id:\n",
      "\n",
      "for k in dnas:\n",
      "    #For each key (k) in the dictionary:\n",
      "    dnas[k] = ''.join(dnas[k])\n",
      "\n",
      "print(\"\\ndid it work?\")\n",
      "print(dnas)\n",
      "print(\"It did, and now the values of the dictionary are strings instead of lists\")\n",
      "        \n",
      "#Now to calculate the GC% for each id\n",
      "\n",
      "\n",
      "for k in dnas:\n",
      "    number_of_gs = dnas[k].count('G')\n",
      "    number_of_cs = dnas[k].count('C')\n",
      "    #.count() is another string function, it counts the occurances of a string in another string\n",
      "    #notice that dnas[k] is now a string since we replaces the list we originally made\n",
      "    #and returns a number\n",
      "    number_of_nucleotides = len(dnas[k]) #len() returns the length of an iterable\n",
      "    \n",
      "    #We'll just replace the value in the dictionary with the gc percentage\n",
      "    dnas[k] = ((number_of_gs + number_of_cs) * 100 )/ number_of_nucleotides\n",
      "\n",
      "    \n",
      "print(\"\\ndid it work?\")\n",
      "print(dnas)\n",
      "    \n",
      "#Awesome, now to extract the id with the highest percentage:\n",
      "\n",
      "tp_id = None\n",
      "for k in dnas:\n",
      "    if not tp_id:\n",
      "        tp_id = k\n",
      "    if dnas[k] >dnas[tp_id]:\n",
      "        tp_id = k #if the value of k is higher than the value of the Top Percentage id, assign k as tp_id\n",
      "\n",
      "print(\"\\nWe did it! The dna fragment with the highest GC percentage is {0} with {1}% GC\".format(tp_id,dnas[tp_id]))\n",
      "        \n",
      "\n"
     ],
     "language": "python",
     "metadata": {},
     "outputs": [
      {
       "output_type": "stream",
       "stream": "stdout",
       "text": [
        "Let's see what we've done so far\n",
        "{'Rosalind_0808': ['CCACCCTCGTGGTATGGCTAGGCATTCAGGAACCGGAGAACGCTTCAGACCAGCCCGGAC', 'TGGGAACCTGCGGGCAGTAGGTGGAAT'], 'Rosalind_5959': ['CCATCGGTAGCGCATCCTTAGTCCAATTAAGTCCCTATCCAGGCGCTCCGCCGAAGGTCT', 'ATATCCATTTGTCAGCAGACACGC'], 'Rosalind_6404': ['CCTGCGGAAGATCGGCACTAGAATAGCCAGAACCGTTTCTCTGAGGCTTCCGGCCTTCCC', 'TCCCACTAATAATTCTGAGG']}\n",
        "\n",
        "did it work?\n",
        "{'Rosalind_0808': 'CCACCCTCGTGGTATGGCTAGGCATTCAGGAACCGGAGAACGCTTCAGACCAGCCCGGACTGGGAACCTGCGGGCAGTAGGTGGAAT', 'Rosalind_5959': 'CCATCGGTAGCGCATCCTTAGTCCAATTAAGTCCCTATCCAGGCGCTCCGCCGAAGGTCTATATCCATTTGTCAGCAGACACGC', 'Rosalind_6404': 'CCTGCGGAAGATCGGCACTAGAATAGCCAGAACCGTTTCTCTGAGGCTTCCGGCCTTCCCTCCCACTAATAATTCTGAGG'}\n",
        "It did, and now the values of the dictionary are strings instead of lists\n",
        "\n",
        "did it work?\n",
        "{'Rosalind_0808': 60.91954022988506, 'Rosalind_5959': 53.57142857142857, 'Rosalind_6404': 53.75}\n",
        "\n",
        "We did it! The dna fragment with the highest GC percentage is Rosalind_0808 with 60.91954022988506% GC\n"
       ]
      }
     ],
     "prompt_number": 60
    },
    {
     "cell_type": "code",
     "collapsed": false,
     "input": [],
     "language": "python",
     "metadata": {},
     "outputs": [],
     "prompt_number": 61
    },
    {
     "cell_type": "markdown",
     "metadata": {},
     "source": [
      "### Counting Point Mutations \n",
      "Given two strings s and t of equal length, the Hamming distance between s and t, denoted dH(s,t), is the number of corresponding symbols that differ in s and t. See Figure 2.\n",
      "\n",
      "Given: Two DNA strings s and t of equal length (not exceeding 1 kbp).\n",
      "\n",
      "Return: The Hamming distance dH(s,t)."
     ]
    },
    {
     "cell_type": "code",
     "collapsed": false,
     "input": [
      "dna1 = \"GAGCCTACTAACGGGAT\"\n",
      "dna2 = \"CATCGTAATGACGGCCT\"\n",
      "\n",
      "count = 0 \n",
      "\n",
      "for c1,c2 in zip(dna1,dna2):\n",
      "    if c1 != c2:\n",
      "        count += 1\n",
      "        \n",
      "print(count)\n",
      "    "
     ],
     "language": "python",
     "metadata": {},
     "outputs": [
      {
       "output_type": "stream",
       "stream": "stdout",
       "text": [
        "7\n"
       ]
      }
     ],
     "prompt_number": 61
    },
    {
     "cell_type": "code",
     "collapsed": false,
     "input": [],
     "language": "python",
     "metadata": {},
     "outputs": []
    }
   ],
   "metadata": {}
  }
 ]
}