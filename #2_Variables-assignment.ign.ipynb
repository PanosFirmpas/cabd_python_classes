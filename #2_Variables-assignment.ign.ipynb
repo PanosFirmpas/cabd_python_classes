{
 "metadata": {
  "name": "",
  "signature": "sha256:fc3cb2c4501bd363c4db8ec27e5837975a346e9b0c415fd74da8456b9f1661e4"
 },
 "nbformat": 3,
 "nbformat_minor": 0,
 "worksheets": [
  {
   "cells": [
    {
     "cell_type": "markdown",
     "metadata": {},
     "source": [
      "Variables & Assignment\n",
      "======================\n",
      "A variable is a name that has a value associated with it.\n",
      "\n",
      "You can assign a value to a variable name using the equals sign."
     ]
    },
    {
     "cell_type": "code",
     "collapsed": true,
     "input": [
      "tail_length_mm = 27"
     ],
     "language": "python",
     "metadata": {},
     "outputs": [],
     "prompt_number": 29
    },
    {
     "cell_type": "markdown",
     "metadata": {},
     "source": [
      "On the left hand side of the equals is the name of the variable. On the right hand side is that value that is assigned to it.\n",
      "\n",
      "The variable name then works just like typing it's value."
     ]
    },
    {
     "cell_type": "code",
     "collapsed": false,
     "input": [
      "print(tail_length_mm)"
     ],
     "language": "python",
     "metadata": {},
     "outputs": [
      {
       "output_type": "stream",
       "stream": "stdout",
       "text": [
        "27\n"
       ]
      }
     ],
     "prompt_number": 2
    },
    {
     "cell_type": "code",
     "collapsed": false,
     "input": [
      "print(10 + tail_length_mm * 2)"
     ],
     "language": "python",
     "metadata": {},
     "outputs": [
      {
       "output_type": "stream",
       "stream": "stdout",
       "text": [
        "64\n"
       ]
      }
     ],
     "prompt_number": 3
    },
    {
     "cell_type": "markdown",
     "metadata": {},
     "source": [
      "###Floats and integers\n",
      "\n",
      "We can have two types of numbers in Python, integers and floats. \n",
      "\n",
      "An Integer, commonly known as a \"whole number\", is a number that can be written without a fractional component.\n",
      "\n",
      "A float contains a fractional component.\n",
      "\n",
      "Floats occupy more space in memory so idealy you would want to avoid them."
     ]
    },
    {
     "cell_type": "code",
     "collapsed": false,
     "input": [
      "an_integer = 5\n",
      "an_integer\n"
     ],
     "language": "python",
     "metadata": {},
     "outputs": [
      {
       "metadata": {},
       "output_type": "pyout",
       "prompt_number": 6,
       "text": [
        "5"
       ]
      }
     ],
     "prompt_number": 6
    },
    {
     "cell_type": "code",
     "collapsed": false,
     "input": [
      "a_float = 1.25\n",
      "a_float"
     ],
     "language": "python",
     "metadata": {},
     "outputs": [
      {
       "metadata": {},
       "output_type": "pyout",
       "prompt_number": 7,
       "text": [
        "1.25"
       ]
      }
     ],
     "prompt_number": 7
    },
    {
     "cell_type": "markdown",
     "metadata": {},
     "source": [
      "###Number operators:\n",
      "\n",
      "* \\+ for addition\n",
      "* \\- for substraction\n",
      "* /  for division\n",
      "* // for integer division (see below)\n",
      "* ** for raising to a power\n",
      "* %  for the remainder of integer division\n",
      "\n",
      "\n"
     ]
    },
    {
     "cell_type": "markdown",
     "metadata": {},
     "source": [
      "### Integer division\n",
      "We have two types of division in Python.\n",
      "\n",
      "Let's assume that we want to devide 5/4."
     ]
    },
    {
     "cell_type": "code",
     "collapsed": false,
     "input": [
      "5/4"
     ],
     "language": "python",
     "metadata": {},
     "outputs": [
      {
       "metadata": {},
       "output_type": "pyout",
       "prompt_number": 2,
       "text": [
        "1.25"
       ]
      }
     ],
     "prompt_number": 2
    },
    {
     "cell_type": "code",
     "collapsed": false,
     "input": [
      "5//4"
     ],
     "language": "python",
     "metadata": {},
     "outputs": [
      {
       "metadata": {},
       "output_type": "pyout",
       "prompt_number": 4,
       "text": [
        "1"
       ]
      }
     ],
     "prompt_number": 4
    },
    {
     "cell_type": "markdown",
     "metadata": {},
     "source": [
      "In Python3, the default division produces a float, even when you divide two integers."
     ]
    },
    {
     "cell_type": "code",
     "collapsed": false,
     "input": [
      "4/2"
     ],
     "language": "python",
     "metadata": {},
     "outputs": [
      {
       "metadata": {},
       "output_type": "pyout",
       "prompt_number": 19,
       "text": [
        "2.0"
       ]
      }
     ],
     "prompt_number": 19
    },
    {
     "cell_type": "code",
     "collapsed": false,
     "input": [
      "4.0/2.0"
     ],
     "language": "python",
     "metadata": {},
     "outputs": [
      {
       "metadata": {},
       "output_type": "pyout",
       "prompt_number": 20,
       "text": [
        "2.0"
       ]
      }
     ],
     "prompt_number": 20
    },
    {
     "cell_type": "markdown",
     "metadata": {},
     "source": [
      "The alternative, integer division produces an integer when dividing two integers (Please note that this is truncation, not rounding)\n"
     ]
    },
    {
     "cell_type": "code",
     "collapsed": false,
     "input": [
      "5//2"
     ],
     "language": "python",
     "metadata": {},
     "outputs": [
      {
       "metadata": {},
       "output_type": "pyout",
       "prompt_number": 23,
       "text": [
        "2"
       ]
      }
     ],
     "prompt_number": 23
    },
    {
     "cell_type": "markdown",
     "metadata": {},
     "source": [
      "But it produces a truncated float when dividing floats (I don't know why....)"
     ]
    },
    {
     "cell_type": "code",
     "collapsed": false,
     "input": [
      "5.0//2.0"
     ],
     "language": "python",
     "metadata": {},
     "outputs": [
      {
       "metadata": {},
       "output_type": "pyout",
       "prompt_number": 24,
       "text": [
        "2.0"
       ]
      }
     ],
     "prompt_number": 24
    },
    {
     "cell_type": "markdown",
     "metadata": {},
     "source": [
      "The modulo operator returns the remainder of an integer division:"
     ]
    },
    {
     "cell_type": "code",
     "collapsed": false,
     "input": [
      "5%2"
     ],
     "language": "python",
     "metadata": {},
     "outputs": [
      {
       "metadata": {},
       "output_type": "pyout",
       "prompt_number": 26,
       "text": [
        "1"
       ]
      }
     ],
     "prompt_number": 26
    },
    {
     "cell_type": "markdown",
     "metadata": {},
     "source": [
      "5 - 2 * result of integer division = modulo"
     ]
    },
    {
     "cell_type": "markdown",
     "metadata": {},
     "source": [
      "You will probably only use the modulo if you need to find if a number is even or odd.\n",
      "If x%2 =0, x is even, otherwise it's odd"
     ]
    },
    {
     "cell_type": "code",
     "collapsed": false,
     "input": [
      "x = 5\n",
      "\n",
      "x%2"
     ],
     "language": "python",
     "metadata": {},
     "outputs": [
      {
       "metadata": {},
       "output_type": "pyout",
       "prompt_number": 27,
       "text": [
        "1"
       ]
      }
     ],
     "prompt_number": 27
    },
    {
     "cell_type": "code",
     "collapsed": false,
     "input": [
      "x = 4\n",
      "\n",
      "x%2"
     ],
     "language": "python",
     "metadata": {},
     "outputs": [
      {
       "metadata": {},
       "output_type": "pyout",
       "prompt_number": 28,
       "text": [
        "0"
       ]
      }
     ],
     "prompt_number": 28
    },
    {
     "cell_type": "markdown",
     "metadata": {},
     "source": [
      "### Back to things we can do with variables\n",
      "The value of the variable won't change unless you assign a new value to that variable.\n",
      "\n",
      "The value of one variable can also be assigned to another variable."
     ]
    },
    {
     "cell_type": "code",
     "collapsed": false,
     "input": [
      "new_tail_length = tail_length_mm\n",
      "print(new_tail_length)"
     ],
     "language": "python",
     "metadata": {},
     "outputs": [
      {
       "output_type": "stream",
       "stream": "stdout",
       "text": [
        "27\n"
       ]
      }
     ],
     "prompt_number": 31
    },
    {
     "cell_type": "markdown",
     "metadata": {},
     "source": [
      "Or we can do a calculation with a variable and then assign it to a new variable."
     ]
    },
    {
     "cell_type": "code",
     "collapsed": false,
     "input": [
      "mass_g = 1000\n",
      "mass_kg = mass_g / 1000\n",
      "print(mass_kg)"
     ],
     "language": "python",
     "metadata": {},
     "outputs": []
    },
    {
     "cell_type": "code",
     "collapsed": false,
     "input": [
      "x = 10\n",
      "y = 2\n",
      "x_plus_y = x + y\n",
      "print(x_plus_y)"
     ],
     "language": "python",
     "metadata": {},
     "outputs": []
    },
    {
     "cell_type": "markdown",
     "metadata": {},
     "source": [
      "Changing the value assigned to a variable does not change anything that has already happened. It only changes things that happen after the change."
     ]
    },
    {
     "cell_type": "code",
     "collapsed": false,
     "input": [
      "genome_length = 600\n",
      "half_genome_length = genome_length / 2\n",
      "genome_length = 1000\n",
      "print(half_genome_length)"
     ],
     "language": "python",
     "metadata": {},
     "outputs": [
      {
       "output_type": "stream",
       "stream": "stdout",
       "text": [
        "300.0\n"
       ]
      }
     ],
     "prompt_number": 9
    },
    {
     "cell_type": "markdown",
     "metadata": {},
     "source": [
      "We can also use the same variable on both sides of an equals sign. This is counterintuitive from a mathematical perspective as we would never expect to see x = x + 5, but it's perfectly fine in programming."
     ]
    },
    {
     "cell_type": "code",
     "collapsed": false,
     "input": [
      "x = 10\n",
      "x = x + 5\n",
      "x"
     ],
     "language": "python",
     "metadata": {},
     "outputs": [
      {
       "metadata": {},
       "output_type": "pyout",
       "prompt_number": 10,
       "text": [
        "15"
       ]
      }
     ],
     "prompt_number": 10
    },
    {
     "cell_type": "markdown",
     "metadata": {},
     "source": [
      "This works because the expression on the right hand side of the equation is evaluated first. Specifically, the order of operations is:\n",
      "\n",
      "1. Look up the current value of x\n",
      "2. Add 5 to that value\n",
      "3. Assign the value resulting from the addition to x\n",
      "\n",
      "Updating the value of a variable like this is a common paradigm in programming.\n",
      "\n",
      "\n",
      "A better way to do this is the following:"
     ]
    },
    {
     "cell_type": "code",
     "collapsed": false,
     "input": [
      "a = 1\n",
      "print(a)\n",
      "a += 1\n",
      "print(a)\n",
      " \n",
      "a *= 5\n",
      "print(a)\n",
      "\n",
      "a /= 2\n",
      "print(a)"
     ],
     "language": "python",
     "metadata": {},
     "outputs": [
      {
       "output_type": "stream",
       "stream": "stdout",
       "text": [
        "1\n",
        "2\n",
        "10\n",
        "5.0\n"
       ]
      }
     ],
     "prompt_number": 1
    },
    {
     "cell_type": "markdown",
     "metadata": {},
     "source": [
      "###Practice:\n",
      "Starting with a=0 and b=1, produce the 10 following numbers of the Fibonnaci sequence"
     ]
    },
    {
     "cell_type": "code",
     "collapsed": false,
     "input": [
      "a = 0\n",
      "b = 1\n"
     ],
     "language": "python",
     "metadata": {},
     "outputs": [],
     "prompt_number": 24
    },
    {
     "cell_type": "code",
     "collapsed": false,
     "input": [],
     "language": "python",
     "metadata": {},
     "outputs": []
    }
   ],
   "metadata": {}
  }
 ]
}