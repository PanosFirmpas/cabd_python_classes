{
 "metadata": {
  "name": "",
  "signature": "sha256:df16241b5a7ff73179e2aa54c03acc9704e9d9d2ce99686bf7f4af8a92b1131e"
 },
 "nbformat": 3,
 "nbformat_minor": 0,
 "worksheets": [
  {
   "cells": [
    {
     "cell_type": "markdown",
     "metadata": {},
     "source": [
      "https://github.com/PanosFirmpas/cabd_python_classes/blob/master/E_zfin_gene_alias_2014.12.08.gff3\n",
      "    \n",
      "https://raw.githubusercontent.com/PanosFirmpas/cabd_python_classes/master/gene_association.zfin"
     ]
    },
    {
     "cell_type": "markdown",
     "metadata": {},
     "source": [
      "###Excercise:\n",
      "    Make a file with the following format:\n",
      "    \n",
      "    gene_name chromosome start end GO_code"
     ]
    },
    {
     "cell_type": "code",
     "collapsed": false,
     "input": [],
     "language": "python",
     "metadata": {},
     "outputs": []
    }
   ],
   "metadata": {}
  }
 ]
}