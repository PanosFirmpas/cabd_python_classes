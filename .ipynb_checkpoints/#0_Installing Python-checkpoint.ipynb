{
 "metadata": {
  "name": ""
 },
 "nbformat": 3,
 "nbformat_minor": 0,
 "worksheets": [
  {
   "cells": [
    {
     "cell_type": "markdown",
     "metadata": {},
     "source": [
      "#Get Python\n",
      "\n",
      "###On Windows\n",
      "\n",
      "I highly suggest installing python through this package:\n",
      "\n",
      "http://continuum.io/downloads\n",
      "\n",
      "Just download the appropriate version for your windows (32 or 64 bit) and run it, it will handle everything automagically.\n",
      "\n",
      "There are two options with regards to which Python distribution to get: 2.7 and 3.4, the differences between the two are not big,\n",
      "I would suggest version 3.4 just because it's the newest.\n",
      "\n",
      "\n",
      "\n",
      "***To test if it worked:***\n",
      "Hit *Start*, the button on the bottom left of Windows,\n",
      "and in the little search field write \"cmd\" (this stands for command line)\n",
      "\n",
      "Windows will suggest programs based on what you typed, so the top suggestion should be \"cmd.exe\"\n",
      "\n",
      "click the cmd.exe to run it and you will get the -oh so scary- black window of the command line.\n",
      "\n",
      "in there, write 'python -V' (capital V). This asks windows to run python, print the Version of python and then close it.\n",
      "\n",
      "If everything worked nicely , you should get a message like this:\n",
      "\n",
      "\"Python 3.4 :: Anaconda 1.9.1 (64-bit)\", you can close the command line and relax "
     ]
    },
    {
     "cell_type": "markdown",
     "metadata": {},
     "source": [
      "### On Macs\n",
      "\n",
      "Macs come with python pre-installed so you shouldn't need to do anything\n",
      "\n",
      "You should test if that is indeed true, by running 'python -V' in a terminal (https://www.youtube.com/watch?v=zw7Nd67_aFw <-- how to open a terminal on macs).\n",
      "\n",
      "Any version of python should do fine.\n",
      "\n",
      "If you do need to install python on your mac, I would suggest the anaconda distribution, please read the Windows paragraph on 'how-to install python'\n",
      "\n",
      "\n"
     ]
    },
    {
     "cell_type": "markdown",
     "metadata": {},
     "source": [
      "### On Linux\n",
      "\n",
      "If you're using some linux distribution you probably don't need help installing python, if you do send me an email :)\n"
     ]
    },
    {
     "cell_type": "markdown",
     "metadata": {},
     "source": [
      "\n",
      "#Get a nice Text editor\n",
      "\n",
      "Python scripts are effectively simple text files (.txt) so you can handle them with the already existing simple-text editors of windows (NotePad and WordPad) (NOT Microsoft Word).\n",
      "\n",
      "**BUT**, having a text editor which is more focused on programming will make your life quite easier, so I would suggest you also install this on your system:\n",
      "\n",
      "http://www.sublimetext.com/2\n",
      "\n",
      "This is a free and dead-simple to install (It will ask you to buy it every once in a while, but you can just ignore that message)\n",
      "\n",
      "\n",
      "\n",
      "You could use any other text editor from the dozens that exist out there, but this is my favorite one :)\n"
     ]
    },
    {
     "cell_type": "code",
     "collapsed": false,
     "input": [],
     "language": "python",
     "metadata": {},
     "outputs": []
    }
   ],
   "metadata": {}
  }
 ]
}