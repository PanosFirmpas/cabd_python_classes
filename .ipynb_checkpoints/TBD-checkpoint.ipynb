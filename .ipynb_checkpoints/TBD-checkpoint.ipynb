{
 "metadata": {
  "name": "",
  "signature": "sha256:6e3868cee5a5880807089436bc9a5bb597eda46d11bd7efe2bf49a42382bdb50"
 },
 "nbformat": 3,
 "nbformat_minor": 0,
 "worksheets": []
}