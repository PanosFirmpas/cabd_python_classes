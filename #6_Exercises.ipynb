{
 "metadata": {
  "name": "",
  "signature": "sha256:06cf750fb6c35d740bf75a343662346736a598e15bd37bdee24e91f3cbd40960"
 },
 "nbformat": 3,
 "nbformat_minor": 0,
 "worksheets": [
  {
   "cells": [
    {
     "cell_type": "markdown",
     "metadata": {},
     "source": [
      "###Make a list with the first 10 Fibonacci numbers"
     ]
    },
    {
     "cell_type": "code",
     "collapsed": false,
     "input": [
      "a = 0\n",
      "b = 1\n",
      "fib = []\n",
      "\n",
      "fib.append(a)\n",
      "fib.append(b)\n",
      "print(fib)\n"
     ],
     "language": "python",
     "metadata": {},
     "outputs": [
      {
       "output_type": "stream",
       "stream": "stdout",
       "text": [
        "[0, 1]\n"
       ]
      }
     ],
     "prompt_number": 7
    },
    {
     "cell_type": "code",
     "collapsed": false,
     "input": [
      "\n",
      "next_fib = fib[-1] + fib[-2]\n",
      "fib.append(next_fib)\n",
      "print(fib)\n",
      "\n"
     ],
     "language": "python",
     "metadata": {},
     "outputs": [
      {
       "output_type": "stream",
       "stream": "stdout",
       "text": [
        "[0, 1, 1]\n"
       ]
      }
     ],
     "prompt_number": 2
    },
    {
     "cell_type": "code",
     "collapsed": false,
     "input": [
      "next_fib = fib[-1] + fib[-2]\n",
      "fib.append(next_fib)\n",
      "print(fib)\n"
     ],
     "language": "python",
     "metadata": {},
     "outputs": [
      {
       "output_type": "stream",
       "stream": "stdout",
       "text": [
        "[0, 1, 1, 2]\n"
       ]
      }
     ],
     "prompt_number": 3
    },
    {
     "cell_type": "code",
     "collapsed": false,
     "input": [
      "\n",
      "next_fib = fib[-1] + fib[-2]\n",
      "fib.append(next_fib)\n",
      "print(fib)"
     ],
     "language": "python",
     "metadata": {},
     "outputs": [
      {
       "output_type": "stream",
       "stream": "stdout",
       "text": [
        "[0, 1, 1, 2, 3]\n"
       ]
      }
     ],
     "prompt_number": 4
    },
    {
     "cell_type": "code",
     "collapsed": false,
     "input": [
      "for i in range(100):\n",
      "    next_fib = fib[-1] + fib[-2]\n",
      "    fib.append(next_fib)\n",
      "print(fib)"
     ],
     "language": "python",
     "metadata": {},
     "outputs": [
      {
       "output_type": "stream",
       "stream": "stdout",
       "text": [
        "[0, 1, 1, 2, 3, 5, 8, 13, 21, 34, 55, 89, 144, 233, 377, 610, 987, 1597, 2584, 4181, 6765, 10946, 17711, 28657, 46368, 75025, 121393, 196418, 317811, 514229, 832040, 1346269, 2178309, 3524578, 5702887, 9227465, 14930352, 24157817, 39088169, 63245986, 102334155, 165580141, 267914296, 433494437, 701408733, 1134903170, 1836311903, 2971215073, 4807526976, 7778742049, 12586269025, 20365011074, 32951280099, 53316291173, 86267571272, 139583862445, 225851433717, 365435296162, 591286729879, 956722026041, 1548008755920, 2504730781961, 4052739537881, 6557470319842, 10610209857723, 17167680177565, 27777890035288, 44945570212853, 72723460248141, 117669030460994, 190392490709135, 308061521170129, 498454011879264, 806515533049393, 1304969544928657, 2111485077978050, 3416454622906707, 5527939700884757, 8944394323791464, 14472334024676221, 23416728348467685, 37889062373143906, 61305790721611591, 99194853094755497, 160500643816367088, 259695496911122585, 420196140727489673, 679891637638612258, 1100087778366101931, 1779979416004714189, 2880067194370816120, 4660046610375530309, 7540113804746346429, 12200160415121876738, 19740274219868223167, 31940434634990099905, 51680708854858323072, 83621143489848422977, 135301852344706746049, 218922995834555169026, 354224848179261915075, 573147844013817084101]\n"
       ]
      }
     ],
     "prompt_number": 8
    },
    {
     "cell_type": "code",
     "collapsed": false,
     "input": [
      "a = 0\n",
      "b = 1\n",
      "fib = []\n",
      "\n",
      "fib.append(a)\n",
      "fib.append(b)\n",
      "print(fib)\n",
      "\n",
      "for i in range(10):\n",
      "    next_fib = fib[-1] + fib[-2]\n",
      "    fib.append(next_fib)\n",
      "\n",
      "print(fib)\n",
      "\n",
      "# next_fib = fib[-1] + fib[-2]\n",
      "# fib.append(next_fib)\n",
      "# print(fib)\n",
      "\n",
      "# next_fib = fib[-1] + fib[-2]\n",
      "# fib.append(next_fib)\n",
      "# print(fib)"
     ],
     "language": "python",
     "metadata": {},
     "outputs": [
      {
       "output_type": "stream",
       "stream": "stdout",
       "text": [
        "[0, 1]\n",
        "[0, 1, 1, 2, 3, 5, 8, 13, 21, 34, 55, 89]\n"
       ]
      }
     ],
     "prompt_number": 9
    },
    {
     "cell_type": "markdown",
     "metadata": {},
     "source": [
      "###What will be printed in each of these cases?"
     ]
    },
    {
     "cell_type": "code",
     "collapsed": false,
     "input": [
      "x = 0\n",
      "i = 0\n",
      "for x in ['apple','banana','grape']:\n",
      "    i = i+1 \n",
      "print(x)\n",
      "    "
     ],
     "language": "python",
     "metadata": {},
     "outputs": [
      {
       "output_type": "stream",
       "stream": "stdout",
       "text": [
        "grape\n"
       ]
      }
     ],
     "prompt_number": 10
    },
    {
     "cell_type": "code",
     "collapsed": false,
     "input": [
      "x = 0\n",
      "\n",
      "for i in ['apple','banana','grape']:\n",
      "    x = x+1\n",
      "print(x)"
     ],
     "language": "python",
     "metadata": {},
     "outputs": [
      {
       "output_type": "stream",
       "stream": "stdout",
       "text": [
        "3\n"
       ]
      }
     ],
     "prompt_number": 11
    },
    {
     "cell_type": "code",
     "collapsed": false,
     "input": [
      "x = 0\n",
      "i = 0\n",
      "for i in range(2000):\n",
      "    x = i + 3\n",
      "print(x)"
     ],
     "language": "python",
     "metadata": {},
     "outputs": [
      {
       "output_type": "stream",
       "stream": "stdout",
       "text": [
        "2002\n"
       ]
      }
     ],
     "prompt_number": 12
    },
    {
     "cell_type": "code",
     "collapsed": false,
     "input": [
      "x = 0\n",
      "for x in range(8):\n",
      "    x = x * x\n",
      "    print(x)"
     ],
     "language": "python",
     "metadata": {},
     "outputs": [
      {
       "output_type": "stream",
       "stream": "stdout",
       "text": [
        "0\n",
        "1\n",
        "4\n",
        "9\n",
        "16\n",
        "25\n",
        "36\n",
        "49\n"
       ]
      }
     ],
     "prompt_number": 16
    },
    {
     "cell_type": "code",
     "collapsed": false,
     "input": [
      "\n",
      "i = \"\" #empty string\n",
      "for x in ['apple','banana','grape']:\n",
      "    i = i + x\n",
      "print(x)\n",
      "print(i)"
     ],
     "language": "python",
     "metadata": {},
     "outputs": [
      {
       "output_type": "stream",
       "stream": "stdout",
       "text": [
        "grape\n",
        "applebananagrape\n"
       ]
      }
     ],
     "prompt_number": 17
    },
    {
     "cell_type": "code",
     "collapsed": false,
     "input": [
      "for e,i in enumerate(['apple','banana','grape']):\n",
      "    print(type(e),type(i))"
     ],
     "language": "python",
     "metadata": {},
     "outputs": [
      {
       "output_type": "stream",
       "stream": "stdout",
       "text": [
        "<class 'int'> <class 'str'>\n",
        "<class 'int'> <class 'str'>\n",
        "<class 'int'> <class 'str'>\n"
       ]
      }
     ],
     "prompt_number": 40
    },
    {
     "cell_type": "code",
     "collapsed": false,
     "input": [
      "for first,second in [ [0,1],[4,5],[7,8],[10,15],[\"a\",\"b\"] ]:\n",
      "    \n",
      "    print(first,second)\n"
     ],
     "language": "python",
     "metadata": {},
     "outputs": [
      {
       "output_type": "stream",
       "stream": "stdout",
       "text": [
        "0 1\n"
       ]
      },
      {
       "ename": "ValueError",
       "evalue": "too many values to unpack (expected 2)",
       "output_type": "pyerr",
       "traceback": [
        "\u001b[1;31m---------------------------------------------------------------------------\u001b[0m\n\u001b[1;31mValueError\u001b[0m                                Traceback (most recent call last)",
        "\u001b[1;32m<ipython-input-31-e045514d6f1f>\u001b[0m in \u001b[0;36m<module>\u001b[1;34m()\u001b[0m\n\u001b[1;32m----> 1\u001b[1;33m \u001b[1;32mfor\u001b[0m \u001b[0mfirst\u001b[0m\u001b[1;33m,\u001b[0m\u001b[0msecond\u001b[0m \u001b[1;32min\u001b[0m \u001b[1;33m[\u001b[0m \u001b[1;33m[\u001b[0m\u001b[1;36m0\u001b[0m\u001b[1;33m,\u001b[0m\u001b[1;36m1\u001b[0m\u001b[1;33m]\u001b[0m\u001b[1;33m,\u001b[0m\u001b[1;33m[\u001b[0m\u001b[1;36m4\u001b[0m\u001b[1;33m,\u001b[0m\u001b[1;36m5\u001b[0m\u001b[1;33m,\u001b[0m\u001b[1;36m7\u001b[0m\u001b[1;33m]\u001b[0m\u001b[1;33m,\u001b[0m\u001b[1;33m[\u001b[0m\u001b[1;36m7\u001b[0m\u001b[1;33m,\u001b[0m\u001b[1;36m8\u001b[0m\u001b[1;33m]\u001b[0m\u001b[1;33m,\u001b[0m\u001b[1;33m[\u001b[0m\u001b[1;36m10\u001b[0m\u001b[1;33m,\u001b[0m\u001b[1;36m15\u001b[0m\u001b[1;33m]\u001b[0m\u001b[1;33m,\u001b[0m\u001b[1;33m[\u001b[0m\u001b[1;34m\"a\"\u001b[0m\u001b[1;33m,\u001b[0m\u001b[1;34m\"b\"\u001b[0m\u001b[1;33m]\u001b[0m \u001b[1;33m]\u001b[0m\u001b[1;33m:\u001b[0m\u001b[1;33m\u001b[0m\u001b[0m\n\u001b[0m\u001b[0;32m      2\u001b[0m \u001b[1;33m\u001b[0m\u001b[0m\n\u001b[0;32m      3\u001b[0m     \u001b[0mprint\u001b[0m\u001b[1;33m(\u001b[0m\u001b[0mfirst\u001b[0m\u001b[1;33m,\u001b[0m\u001b[0msecond\u001b[0m\u001b[1;33m)\u001b[0m\u001b[1;33m\u001b[0m\u001b[0m\n",
        "\u001b[1;31mValueError\u001b[0m: too many values to unpack (expected 2)"
       ]
      }
     ],
     "prompt_number": 31
    },
    {
     "cell_type": "code",
     "collapsed": false,
     "input": [
      "print(i)"
     ],
     "language": "python",
     "metadata": {},
     "outputs": [
      {
       "output_type": "stream",
       "stream": "stdout",
       "text": [
        "['a', 'b']\n"
       ]
      }
     ],
     "prompt_number": 26
    },
    {
     "cell_type": "code",
     "collapsed": false,
     "input": [
      "numbers = [3,4,5]\n",
      "fruits = ['apple','banana','citrus']\n",
      "print( list(zip(numbers,fruits))  )"
     ],
     "language": "python",
     "metadata": {},
     "outputs": [
      {
       "output_type": "stream",
       "stream": "stdout",
       "text": [
        "[(3, 'apple'), (4, 'banana'), (5, 'citrus')]\n"
       ]
      }
     ],
     "prompt_number": 42
    },
    {
     "cell_type": "code",
     "collapsed": false,
     "input": [
      "for number,fruit in zip(numbers,fruits):\n",
      "    print(number,fruit)"
     ],
     "language": "python",
     "metadata": {},
     "outputs": [
      {
       "output_type": "stream",
       "stream": "stdout",
       "text": [
        "3 apple\n",
        "4 banana\n",
        "5 citrus\n"
       ]
      }
     ],
     "prompt_number": 43
    },
    {
     "cell_type": "code",
     "collapsed": false,
     "input": [],
     "language": "python",
     "metadata": {},
     "outputs": []
    },
    {
     "cell_type": "code",
     "collapsed": false,
     "input": [
      "numbers = [3,4,5]\n",
      "fruits = ['apple','banana','citrus']\n",
      "i = 0\n",
      "x = 1\n",
      "for number,fruit in zip(numbers,fruits):\n",
      "    print(i,x)"
     ],
     "language": "python",
     "metadata": {},
     "outputs": [
      {
       "output_type": "stream",
       "stream": "stdout",
       "text": [
        "0 1\n",
        "0 1\n",
        "0 1\n"
       ]
      }
     ],
     "prompt_number": 44
    },
    {
     "cell_type": "code",
     "collapsed": false,
     "input": [
      "fruits = ['apple','banana','citrus']\n",
      "\n",
      "for fruit in fruits:\n",
      "    i = \"Johnny ate one {0}\".format(fruit)\n",
      "    print(fruit)\n",
      "    "
     ],
     "language": "python",
     "metadata": {},
     "outputs": [
      {
       "output_type": "stream",
       "stream": "stdout",
       "text": [
        "apple\n",
        "banana\n",
        "citrus\n"
       ]
      }
     ],
     "prompt_number": 45
    },
    {
     "cell_type": "code",
     "collapsed": false,
     "input": [
      "fruits = ['apple','banana','citrus']\n",
      "\n",
      "for fruit in fruits:\n",
      "    i = \"Johnny ate one {0}\".format(fruit)\n",
      "    print(i)"
     ],
     "language": "python",
     "metadata": {},
     "outputs": [
      {
       "output_type": "stream",
       "stream": "stdout",
       "text": [
        "Johnny ate one apple\n",
        "Johnny ate one banana\n",
        "Johnny ate one citrus\n"
       ]
      }
     ],
     "prompt_number": 46
    },
    {
     "cell_type": "code",
     "collapsed": false,
     "input": [
      "fruits = ['apple','banana','citrus']\n",
      "\n",
      "for i in range(3):\n",
      "    \n",
      "    x = fruits[i]\n",
      "    print(i,x)"
     ],
     "language": "python",
     "metadata": {},
     "outputs": [
      {
       "output_type": "stream",
       "stream": "stdout",
       "text": [
        "0 apple\n",
        "1 banana\n",
        "2 citrus\n"
       ]
      }
     ],
     "prompt_number": 48
    },
    {
     "cell_type": "code",
     "collapsed": false,
     "input": [
      "fruits = ['apple','banana','citrus']\n",
      "\n",
      "for i in range(3):\n",
      "    x = fruits[i]\n",
      "\n",
      "print(x)"
     ],
     "language": "python",
     "metadata": {},
     "outputs": [
      {
       "output_type": "stream",
       "stream": "stdout",
       "text": [
        "citrus\n"
       ]
      }
     ],
     "prompt_number": 49
    },
    {
     "cell_type": "code",
     "collapsed": false,
     "input": [
      "fruits = ['apple','banana','citrus']\n",
      "\n",
      "for i in range(5):\n",
      "    x = fruits[i]\n",
      "    print(x)"
     ],
     "language": "python",
     "metadata": {},
     "outputs": [
      {
       "output_type": "stream",
       "stream": "stdout",
       "text": [
        "apple\n",
        "banana\n",
        "citrus\n"
       ]
      },
      {
       "ename": "IndexError",
       "evalue": "list index out of range",
       "output_type": "pyerr",
       "traceback": [
        "\u001b[1;31m---------------------------------------------------------------------------\u001b[0m\n\u001b[1;31mIndexError\u001b[0m                                Traceback (most recent call last)",
        "\u001b[1;32m<ipython-input-50-352c72c4db01>\u001b[0m in \u001b[0;36m<module>\u001b[1;34m()\u001b[0m\n\u001b[0;32m      2\u001b[0m \u001b[1;33m\u001b[0m\u001b[0m\n\u001b[0;32m      3\u001b[0m \u001b[1;32mfor\u001b[0m \u001b[0mi\u001b[0m \u001b[1;32min\u001b[0m \u001b[0mrange\u001b[0m\u001b[1;33m(\u001b[0m\u001b[1;36m5\u001b[0m\u001b[1;33m)\u001b[0m\u001b[1;33m:\u001b[0m\u001b[1;33m\u001b[0m\u001b[0m\n\u001b[1;32m----> 4\u001b[1;33m     \u001b[0mx\u001b[0m \u001b[1;33m=\u001b[0m \u001b[0mfruits\u001b[0m\u001b[1;33m[\u001b[0m\u001b[0mi\u001b[0m\u001b[1;33m]\u001b[0m\u001b[1;33m\u001b[0m\u001b[0m\n\u001b[0m\u001b[0;32m      5\u001b[0m     \u001b[0mprint\u001b[0m\u001b[1;33m(\u001b[0m\u001b[0mx\u001b[0m\u001b[1;33m)\u001b[0m\u001b[1;33m\u001b[0m\u001b[0m\n",
        "\u001b[1;31mIndexError\u001b[0m: list index out of range"
       ]
      }
     ],
     "prompt_number": 50
    },
    {
     "cell_type": "code",
     "collapsed": false,
     "input": [
      "fruits = ['apple','banana','citrus','apple','banana','citrus','apple','banana','citrus','apple','banana','citrus']\n",
      "\n",
      "for i in range(0,12,3):\n",
      "    fruits[i] = 'ANANAS'\n",
      "\n",
      "print(fruits)"
     ],
     "language": "python",
     "metadata": {},
     "outputs": [
      {
       "output_type": "stream",
       "stream": "stdout",
       "text": [
        "['ANANAS', 'banana', 'citrus', 'ANANAS', 'banana', 'citrus', 'ANANAS', 'banana', 'citrus', 'ANANAS', 'banana', 'citrus']\n"
       ]
      }
     ],
     "prompt_number": 51
    },
    {
     "cell_type": "code",
     "collapsed": false,
     "input": [
      "fruits = ['apple','banana','citrus','apple','banana','citrus','apple','banana','citrus','apple','banana','citrus']\n",
      "\n",
      "for i in range(0,12,3):\n",
      "    \n",
      "    fruits[i+1] = 'CHERRY'\n",
      "\n",
      "print(fruits)"
     ],
     "language": "python",
     "metadata": {},
     "outputs": [
      {
       "output_type": "stream",
       "stream": "stdout",
       "text": [
        "['apple', 'CHERRY', 'citrus', 'apple', 'CHERRY', 'citrus', 'apple', 'CHERRY', 'citrus', 'apple', 'CHERRY', 'citrus']\n"
       ]
      }
     ],
     "prompt_number": 55
    },
    {
     "cell_type": "code",
     "collapsed": false,
     "input": [
      "fruits = ['apple','banana','citrus','apple','banana','citrus','apple','banana','citrus','apple','banana','citrus']\n",
      "x = 0\n",
      "\n",
      "for i in range(0,12,3):\n",
      "    fruits[x] = 'BISCUITS'\n",
      "\n",
      "print(fruits)"
     ],
     "language": "python",
     "metadata": {},
     "outputs": [
      {
       "output_type": "stream",
       "stream": "stdout",
       "text": [
        "['BISCUITS', 'banana', 'citrus', 'apple', 'banana', 'citrus', 'apple', 'banana', 'citrus', 'apple', 'banana', 'citrus']\n"
       ]
      }
     ],
     "prompt_number": 56
    },
    {
     "cell_type": "code",
     "collapsed": false,
     "input": [
      "fruits = ['apple','banana','citrus','apple','banana','citrus','apple','banana','citrus','apple','banana','citrus']\n",
      "\n",
      "\n",
      "for i in range(0,12,3):\n",
      "    a = fruits.pop()\n",
      "    print(a)\n",
      "    print(fruits)\n",
      "    print()\n",
      "\n",
      "# print(fruits)"
     ],
     "language": "python",
     "metadata": {},
     "outputs": [
      {
       "output_type": "stream",
       "stream": "stdout",
       "text": [
        "citrus\n",
        "['apple', 'banana', 'citrus', 'apple', 'banana', 'citrus', 'apple', 'banana', 'citrus', 'apple', 'banana']\n",
        "\n",
        "banana\n",
        "['apple', 'banana', 'citrus', 'apple', 'banana', 'citrus', 'apple', 'banana', 'citrus', 'apple']\n",
        "\n",
        "apple\n",
        "['apple', 'banana', 'citrus', 'apple', 'banana', 'citrus', 'apple', 'banana', 'citrus']\n",
        "\n",
        "citrus\n",
        "['apple', 'banana', 'citrus', 'apple', 'banana', 'citrus', 'apple', 'banana']\n",
        "\n"
       ]
      }
     ],
     "prompt_number": 59
    },
    {
     "cell_type": "code",
     "collapsed": false,
     "input": [
      "fruits = ['apple','banana','citrus','apple','banana','citrus','apple','banana','citrus','apple','banana','citrus']\n",
      "\n",
      "lengths = [] #empty list\n",
      "\n",
      "for fruit in fruits:\n",
      "    length = len(fruits)\n",
      "    lengths.append(length)\n",
      "\n",
      "print(lengths)"
     ],
     "language": "python",
     "metadata": {},
     "outputs": [
      {
       "output_type": "stream",
       "stream": "stdout",
       "text": [
        "[12, 12, 12, 12, 12, 12, 12, 12, 12, 12, 12, 12]\n"
       ]
      }
     ],
     "prompt_number": 60
    },
    {
     "cell_type": "code",
     "collapsed": false,
     "input": [
      "fruits = ['apple','banana','citrus','apple','banana','citrus','apple','banana','citrus','apple','banana','citrus']\n",
      "\n",
      "lengths = [] #empty list\n",
      "\n",
      "for fruit in fruits:\n",
      "    length = len(fruit)\n",
      "    lengths.append(length)\n",
      "\n",
      "print(lengths)"
     ],
     "language": "python",
     "metadata": {},
     "outputs": [
      {
       "output_type": "stream",
       "stream": "stdout",
       "text": [
        "[5, 6, 6, 5, 6, 6, 5, 6, 6, 5, 6, 6]\n"
       ]
      }
     ],
     "prompt_number": 61
    },
    {
     "cell_type": "code",
     "collapsed": false,
     "input": [
      "fruit = 'apple'\n",
      "\n",
      "for letter in fruit:\n",
      "    print(letter)"
     ],
     "language": "python",
     "metadata": {},
     "outputs": [
      {
       "output_type": "stream",
       "stream": "stdout",
       "text": [
        "e\n",
        "e\n",
        "e\n",
        "e\n",
        "e\n"
       ]
      }
     ],
     "prompt_number": 63
    },
    {
     "cell_type": "code",
     "collapsed": false,
     "input": [
      "fruits = ['apple','banana','citrus']\n",
      "\n",
      "letters = []\n",
      "\n",
      "for fruit in fruits:\n",
      "    for letter in fruit:\n",
      "        letters.append(letter)\n",
      "\n",
      "print(letters)"
     ],
     "language": "python",
     "metadata": {},
     "outputs": [
      {
       "output_type": "stream",
       "stream": "stdout",
       "text": [
        "['a', 'p', 'p', 'l', 'e', 'b', 'a', 'n', 'a', 'n', 'a', 'c', 'i', 't', 'r', 'u', 's']\n"
       ]
      }
     ],
     "prompt_number": 64
    },
    {
     "cell_type": "code",
     "collapsed": false,
     "input": [
      "fruits = ['apple','banana','citrus']\n",
      "\n",
      "letters= []\n",
      "for i,fruit in enumerate(fruits):\n",
      "    \n",
      "    letters.append(fruit[i])\n",
      "\n",
      "print(letters)"
     ],
     "language": "python",
     "metadata": {},
     "outputs": [
      {
       "output_type": "stream",
       "stream": "stdout",
       "text": [
        "['a', 'a', 't']\n"
       ]
      }
     ],
     "prompt_number": 65
    },
    {
     "cell_type": "code",
     "collapsed": false,
     "input": [
      "fruits = ['apple','banana','citrus']\n",
      "\n",
      "letters = [] #\n",
      "\n",
      "for fruit in fruits:\n",
      "    for i,letter in enumerate(fruit):\n",
      "        \n",
      "        letters.append(i)\n",
      "\n",
      "print(letters)"
     ],
     "language": "python",
     "metadata": {},
     "outputs": [
      {
       "output_type": "stream",
       "stream": "stdout",
       "text": [
        "[0, 1, 2, 3, 4, 0, 1, 2, 3, 4, 5, 0, 1, 2, 3, 4, 5]\n"
       ]
      }
     ],
     "prompt_number": 73
    },
    {
     "cell_type": "code",
     "collapsed": false,
     "input": [
      "fruits = ['apple','banana','citrus']\n",
      "\n",
      "letters = []\n",
      "\n",
      "for fruit in fruits:\n",
      "    for i,letter in enumerate(fruit):\n",
      "        letters.append(fruit[i])\n",
      "\n",
      "print(letters)"
     ],
     "language": "python",
     "metadata": {},
     "outputs": [
      {
       "output_type": "stream",
       "stream": "stdout",
       "text": [
        "['a', 'p', 'p', 'l', 'e', 'b', 'a', 'n', 'a', 'n', 'a', 'c', 'i', 't', 'r', 'u', 's']\n"
       ]
      }
     ],
     "prompt_number": 71
    },
    {
     "cell_type": "code",
     "collapsed": false,
     "input": [
      "fruits = ['apple','banana','citrus']\n",
      "\n",
      "letters = []\n",
      "\n",
      "for fruit in fruits:\n",
      "    for i,letter in enumerate(fruit):\n",
      "        letters.append(fruit)\n",
      "\n",
      "print(letters)"
     ],
     "language": "python",
     "metadata": {},
     "outputs": []
    }
   ],
   "metadata": {}
  }
 ]
}