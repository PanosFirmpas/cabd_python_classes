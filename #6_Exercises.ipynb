{
 "metadata": {
  "name": "",
  "signature": "sha256:23638918051b46ac0c081755c1209ff6c689c90104fe90694b54b9ad4091f359"
 },
 "nbformat": 3,
 "nbformat_minor": 0,
 "worksheets": [
  {
   "cells": [
    {
     "cell_type": "markdown",
     "metadata": {},
     "source": [
      "###Make a list with the first 10 Fibonacci numbers"
     ]
    },
    {
     "cell_type": "code",
     "collapsed": false,
     "input": [
      "a = 0\n",
      "b = 1\n",
      "fib = []\n",
      "\n",
      "fib.append(a)\n",
      "fib.append(b)\n",
      "print(fib)\n",
      "\n",
      "next_fib = fib[-1] + fib[-2]\n",
      "fib.append(next_fib)\n",
      "print(fib)\n",
      "\n",
      "next_fib = fib[-1] + fib[-2]\n",
      "fib.append(next_fib)\n",
      "print(fib)\n",
      "\n",
      "next_fib = fib[-1] + fib[-2]\n",
      "fib.append(next_fib)\n",
      "print(fib)"
     ],
     "language": "python",
     "metadata": {},
     "outputs": [
      {
       "output_type": "stream",
       "stream": "stdout",
       "text": [
        "[0, 1]\n",
        "[0, 1, 1]\n",
        "[0, 1, 1, 2]\n",
        "[0, 1, 1, 2, 3]\n"
       ]
      }
     ],
     "prompt_number": 2
    },
    {
     "cell_type": "code",
     "collapsed": false,
     "input": [
      "a = 0\n",
      "b = 1\n",
      "fib = []\n",
      "\n",
      "fib.append(a)\n",
      "fib.append(b)\n",
      "print(fib)\n",
      "\n",
      "for i in range(10):\n",
      "    next_fib = fib[-1] + fib[-2]\n",
      "    fib.append(next_fib)\n",
      "\n",
      "print(fib)\n",
      "\n",
      "# next_fib = fib[-1] + fib[-2]\n",
      "# fib.append(next_fib)\n",
      "# print(fib)\n",
      "\n",
      "# next_fib = fib[-1] + fib[-2]\n",
      "# fib.append(next_fib)\n",
      "# print(fib)"
     ],
     "language": "python",
     "metadata": {},
     "outputs": [
      {
       "output_type": "stream",
       "stream": "stdout",
       "text": [
        "[0, 1]\n",
        "[0, 1, 1, 2, 3, 5, 8, 13, 21, 34, 55, 89]\n"
       ]
      }
     ],
     "prompt_number": 5
    },
    {
     "cell_type": "markdown",
     "metadata": {},
     "source": [
      "###What will be printed in each of these cases?"
     ]
    },
    {
     "cell_type": "code",
     "collapsed": false,
     "input": [
      "x = 0\n",
      "i = 0\n",
      "for x in ['apple','banana','grape']:\n",
      "    i = i+1 # i+=1\n",
      "print(x)\n",
      "    "
     ],
     "language": "python",
     "metadata": {},
     "outputs": []
    },
    {
     "cell_type": "code",
     "collapsed": false,
     "input": [
      "x = 0\n",
      "\n",
      "for i in ['apple','banana','grape']:\n",
      "    x = x+1 # i+=1\n",
      "print(x)"
     ],
     "language": "python",
     "metadata": {},
     "outputs": []
    },
    {
     "cell_type": "code",
     "collapsed": false,
     "input": [
      "x = 0\n",
      "i = 0\n",
      "for i in range(100):\n",
      "    x = i + 3\n",
      "print(x)"
     ],
     "language": "python",
     "metadata": {},
     "outputs": []
    },
    {
     "cell_type": "code",
     "collapsed": false,
     "input": [
      "x = 0\n",
      "for x in range(5):\n",
      "    x = x * x\n",
      "print(x)"
     ],
     "language": "python",
     "metadata": {},
     "outputs": []
    },
    {
     "cell_type": "code",
     "collapsed": false,
     "input": [
      "\n",
      "i = \"\" #empty string\n",
      "for x in ['apple','banana','grape']:\n",
      "    i = i + x\n",
      "print(x)\n",
      "print(i)"
     ],
     "language": "python",
     "metadata": {},
     "outputs": []
    },
    {
     "cell_type": "code",
     "collapsed": false,
     "input": [
      "for i,x in enumerate(['apple','banana','grape']):\n",
      "    print(i,x)"
     ],
     "language": "python",
     "metadata": {},
     "outputs": [],
     "prompt_number": 6
    },
    {
     "cell_type": "code",
     "collapsed": false,
     "input": [
      "numbers = [3,4,5]\n",
      "fruits = ['apple','banana','citrus']\n",
      "\n",
      "for number,fruit in zip(numbers,fruits):\n",
      "    print(number,fruit)"
     ],
     "language": "python",
     "metadata": {},
     "outputs": [],
     "prompt_number": 7
    },
    {
     "cell_type": "code",
     "collapsed": false,
     "input": [
      "numbers = [3,4,5]\n",
      "fruits = ['apple','banana','citrus']\n",
      "i = 0\n",
      "x = 1\n",
      "for number,fruit in zip(numbers,fruits):\n",
      "    print(i,x)"
     ],
     "language": "python",
     "metadata": {},
     "outputs": []
    },
    {
     "cell_type": "code",
     "collapsed": false,
     "input": [
      "\n",
      "fruits = ['apple','banana','citrus']\n",
      "\n",
      "for fruit in fruits:\n",
      "    i = \"Johnny ate one {0}\".format(fruit)\n",
      "    print(fruit)\n",
      "    "
     ],
     "language": "python",
     "metadata": {},
     "outputs": []
    },
    {
     "cell_type": "code",
     "collapsed": false,
     "input": [
      "fruits = ['apple','banana','citrus']\n",
      "\n",
      "for fruit in fruits:\n",
      "    i = \"Johnny ate one {0}\".format(fruit)\n",
      "    print(i)"
     ],
     "language": "python",
     "metadata": {},
     "outputs": []
    },
    {
     "cell_type": "code",
     "collapsed": false,
     "input": [
      "fruits = ['apple','banana','citrus']\n",
      "\n",
      "for i in range(3):\n",
      "    x = fruits[i]\n",
      "    print(x)"
     ],
     "language": "python",
     "metadata": {},
     "outputs": []
    },
    {
     "cell_type": "code",
     "collapsed": false,
     "input": [
      "fruits = ['apple','banana','citrus']\n",
      "\n",
      "for i in range(3):\n",
      "    x = fruits[i]\n",
      "\n",
      "print(x)"
     ],
     "language": "python",
     "metadata": {},
     "outputs": []
    },
    {
     "cell_type": "code",
     "collapsed": false,
     "input": [
      "fruits = ['apple','banana','citrus']\n",
      "\n",
      "for i in range(5):\n",
      "    x = fruits[i]\n",
      "    print(x)"
     ],
     "language": "python",
     "metadata": {},
     "outputs": []
    },
    {
     "cell_type": "code",
     "collapsed": false,
     "input": [
      "fruits = ['apple','banana','citrus','apple','banana','citrus','apple','banana','citrus','apple','banana','citrus']\n",
      "\n",
      "for i in range(0,12,3):\n",
      "    fruits[i] = 'ANANAS'\n",
      "\n",
      "print(fruits)"
     ],
     "language": "python",
     "metadata": {},
     "outputs": [],
     "prompt_number": 8
    },
    {
     "cell_type": "code",
     "collapsed": false,
     "input": [
      "fruits = ['apple','banana','citrus','apple','banana','citrus','apple','banana','citrus','apple','banana','citrus']\n",
      "\n",
      "for i in range(0,12,3):\n",
      "    fruits[i+1] = 'CHERRY'\n",
      "\n",
      "print(fruits)"
     ],
     "language": "python",
     "metadata": {},
     "outputs": []
    },
    {
     "cell_type": "code",
     "collapsed": false,
     "input": [
      "fruits = ['apple','banana','citrus','apple','banana','citrus','apple','banana','citrus','apple','banana','citrus']\n",
      "x = 0\n",
      "\n",
      "for i in range(0,12,3):\n",
      "    fruits[x] = 'BISCUITS'\n",
      "\n",
      "print(fruits)"
     ],
     "language": "python",
     "metadata": {},
     "outputs": []
    },
    {
     "cell_type": "code",
     "collapsed": false,
     "input": [
      "fruits = ['apple','banana','citrus','apple','banana','citrus','apple','banana','citrus','apple','banana','citrus']\n",
      "\n",
      "\n",
      "for i in range(0,12,3):\n",
      "    fruits.pop()\n",
      "\n",
      "print(fruits)"
     ],
     "language": "python",
     "metadata": {},
     "outputs": [],
     "prompt_number": 10
    },
    {
     "cell_type": "code",
     "collapsed": false,
     "input": [
      "fruits = ['apple','banana','citrus','apple','banana','citrus','apple','banana','citrus','apple','banana','citrus']\n",
      "\n",
      "lengths = [] #empty list\n",
      "\n",
      "for fruit in fruits:\n",
      "    length = len(fruits)\n",
      "    lengths.append(length)\n",
      "\n",
      "print(lengths)"
     ],
     "language": "python",
     "metadata": {},
     "outputs": []
    },
    {
     "cell_type": "code",
     "collapsed": false,
     "input": [
      "fruits = ['apple','banana','citrus','apple','banana','citrus','apple','banana','citrus','apple','banana','citrus']\n",
      "\n",
      "lengths = [] #empty list\n",
      "\n",
      "for fruit in fruits:\n",
      "    length = len(fruit)\n",
      "    lengths.append(length)\n",
      "\n",
      "print(lengths)"
     ],
     "language": "python",
     "metadata": {},
     "outputs": []
    },
    {
     "cell_type": "code",
     "collapsed": false,
     "input": [
      "fruit = 'apple'\n",
      "\n",
      "for letter in fruit:\n",
      "    print(letter)"
     ],
     "language": "python",
     "metadata": {},
     "outputs": []
    },
    {
     "cell_type": "code",
     "collapsed": false,
     "input": [
      "fruits = ['apple','banana','citrus']\n",
      "\n",
      "letters = []\n",
      "\n",
      "for fruit in fruits:\n",
      "    for letter in fruit:\n",
      "        letters.append(letter)\n",
      "\n",
      "print(letters)"
     ],
     "language": "python",
     "metadata": {},
     "outputs": []
    },
    {
     "cell_type": "code",
     "collapsed": false,
     "input": [
      "fruits = ['apple','banana','citrus']\n",
      "\n",
      "\n",
      "for i,fruit in enumerate(fruits):\n",
      "    \n",
      "    letters.append(fruit[i])\n",
      "\n",
      "print(letters)"
     ],
     "language": "python",
     "metadata": {},
     "outputs": []
    },
    {
     "cell_type": "code",
     "collapsed": false,
     "input": [
      "fruits = ['apple','banana','citrus']\n",
      "\n",
      "letters = []\n",
      "\n",
      "for fruit in fruits:\n",
      "    for i,letter in enumerate(fruit):\n",
      "        letters.append(i)\n",
      "\n",
      "print(letters)"
     ],
     "language": "python",
     "metadata": {},
     "outputs": []
    },
    {
     "cell_type": "code",
     "collapsed": false,
     "input": [
      "fruits = ['apple','banana','citrus']\n",
      "\n",
      "letters = []\n",
      "\n",
      "for fruit in fruits:\n",
      "    for i,letter in enumerate(fruit):\n",
      "        letters.append(fruit[i])\n",
      "\n",
      "print(letters)"
     ],
     "language": "python",
     "metadata": {},
     "outputs": []
    },
    {
     "cell_type": "code",
     "collapsed": false,
     "input": [],
     "language": "python",
     "metadata": {},
     "outputs": []
    }
   ],
   "metadata": {}
  }
 ]
}