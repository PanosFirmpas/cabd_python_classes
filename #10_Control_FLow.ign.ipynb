{
 "metadata": {
  "name": "",
  "signature": "sha256:c99399e0e9804e057092c28bac3b6a37c5ab5f8d2f78d0cd5c865ee97c6fa97d"
 },
 "nbformat": 3,
 "nbformat_minor": 0,
 "worksheets": [
  {
   "cells": [
    {
     "cell_type": "markdown",
     "metadata": {},
     "source": [
      "### Beyond for loops and if/else"
     ]
    },
    {
     "cell_type": "markdown",
     "metadata": {},
     "source": [
      "### While\n",
      "The while statement is used for repeated execution as long as an expression is true:"
     ]
    },
    {
     "cell_type": "code",
     "collapsed": false,
     "input": [
      "flag = 0\n",
      "\n",
      "while flag < 10:\n",
      "    print(\"flag has a value of {0}\".format(flag))\n",
      "    flag +=1 "
     ],
     "language": "python",
     "metadata": {},
     "outputs": [
      {
       "output_type": "stream",
       "stream": "stdout",
       "text": [
        "flag has a value of 0\n",
        "flag has a value of 1\n",
        "flag has a value of 2\n",
        "flag has a value of 3\n",
        "flag has a value of 4\n",
        "flag has a value of 5\n",
        "flag has a value of 6\n",
        "flag has a value of 7\n",
        "flag has a value of 8\n",
        "flag has a value of 9\n"
       ]
      }
     ],
     "prompt_number": 3
    },
    {
     "cell_type": "markdown",
     "metadata": {},
     "source": [
      "### break\n",
      "The break statement breaks out of the smallest enclosing for or while loop."
     ]
    },
    {
     "cell_type": "code",
     "collapsed": false,
     "input": [
      "flag = 0\n",
      "while flag < 10:\n",
      "    print(\"flag has a value of {0}\".format(flag))\n",
      "    flag +=1\n",
      "    if flag == 3:\n",
      "        break"
     ],
     "language": "python",
     "metadata": {},
     "outputs": [
      {
       "output_type": "stream",
       "stream": "stdout",
       "text": [
        "flag has a value of 0\n",
        "flag has a value of 1\n",
        "flag has a value of 2\n"
       ]
      }
     ],
     "prompt_number": 4
    },
    {
     "cell_type": "code",
     "collapsed": false,
     "input": [
      "for i in range(10):\n",
      "    if i > 3:\n",
      "        break\n",
      "    print(i)\n",
      "    "
     ],
     "language": "python",
     "metadata": {},
     "outputs": [
      {
       "output_type": "stream",
       "stream": "stdout",
       "text": [
        "0\n",
        "1\n",
        "2\n",
        "3\n"
       ]
      }
     ],
     "prompt_number": 7
    },
    {
     "cell_type": "markdown",
     "metadata": {},
     "source": [
      "###continue\n",
      "The continue statement continues with the next iteration of the loop:"
     ]
    },
    {
     "cell_type": "code",
     "collapsed": false,
     "input": [
      "for num in range(2, 10):\n",
      "    if num % 2 == 0:\n",
      "        print(\"Found an even number\", num)\n",
      "        continue\n",
      "    print(\"Found a number\", num)"
     ],
     "language": "python",
     "metadata": {},
     "outputs": [
      {
       "output_type": "stream",
       "stream": "stdout",
       "text": [
        "Found an even number 2\n",
        "Found a number 3\n",
        "Found an even number 4\n",
        "Found a number 5\n",
        "Found an even number 6\n",
        "Found a number 7\n",
        "Found an even number 8\n",
        "Found a number 9\n"
       ]
      }
     ],
     "prompt_number": 6
    },
    {
     "cell_type": "code",
     "collapsed": false,
     "input": [
      "for i in range(10):\n",
      "    if i > 3 and i < 6:\n",
      "        continue\n",
      "    print(i)"
     ],
     "language": "python",
     "metadata": {},
     "outputs": [
      {
       "output_type": "stream",
       "stream": "stdout",
       "text": [
        "0\n",
        "1\n",
        "2\n",
        "3\n",
        "6\n",
        "7\n",
        "8\n",
        "9\n"
       ]
      }
     ],
     "prompt_number": 9
    },
    {
     "cell_type": "markdown",
     "metadata": {},
     "source": [
      "###Iteratation, iterable, iterator:\n",
      "\n",
      "Iteration is a general term for taking each item of something, one after another. Any time you use a loop, explicit or implicit, to go over a group of items, that is **iteration**.\n",
      "\n",
      "\n",
      "By now you have probably noticed that most container objects can be looped over using a for statement:\n"
     ]
    },
    {
     "cell_type": "code",
     "collapsed": false,
     "input": [
      "for element in [1, 2, 3]:\n",
      "    print(element)\n",
      "for element in (1, 2, 3):\n",
      "    print(element)\n",
      "for key in {'one':1, 'two':2}:\n",
      "    print(key)\n",
      "for char in \"123\":\n",
      "    print(char)\n",
      "# for line in open(\"myfile.txt\"):\n",
      "#     print(line, end='')"
     ],
     "language": "python",
     "metadata": {},
     "outputs": [
      {
       "output_type": "stream",
       "stream": "stdout",
       "text": [
        "1\n",
        "2\n",
        "3\n",
        "1\n",
        "2\n",
        "3\n",
        "two\n",
        "one\n",
        "1\n",
        "2\n",
        "3\n"
       ]
      }
     ],
     "prompt_number": 2
    },
    {
     "cell_type": "markdown",
     "metadata": {},
     "source": [
      "Simply speaking, lists, tuples, dictionaries, strings, opened files (and more) can be iterated over, and thus we call them iterables.\n",
      "\n",
      "An iterator is a function (not exactly but don't mind) that works like an iterable.\n",
      "range() is the most common iterator:"
     ]
    },
    {
     "cell_type": "code",
     "collapsed": false,
     "input": [
      "for i in range(5):\n",
      "    print(i)"
     ],
     "language": "python",
     "metadata": {},
     "outputs": [
      {
       "output_type": "stream",
       "stream": "stdout",
       "text": [
        "0\n",
        "1\n",
        "2\n",
        "3\n",
        "4\n"
       ]
      }
     ],
     "prompt_number": 6
    },
    {
     "cell_type": "markdown",
     "metadata": {},
     "source": [
      "In Python2, range() actually returns a list and xrange() works like range() in python3.\n",
      "\n",
      "To get a list of numbers in python 3, we have to pass the range() function through the list() function:"
     ]
    },
    {
     "cell_type": "code",
     "collapsed": false,
     "input": [
      "a = range(5)\n",
      "print(a)\n",
      "b = list(range(5))\n",
      "print(b)"
     ],
     "language": "python",
     "metadata": {},
     "outputs": [
      {
       "output_type": "stream",
       "stream": "stdout",
       "text": [
        "range(0, 5)\n",
        "[0, 1, 2, 3, 4]\n"
       ]
      }
     ],
     "prompt_number": 8
    },
    {
     "cell_type": "code",
     "collapsed": false,
     "input": [],
     "language": "python",
     "metadata": {},
     "outputs": []
    }
   ],
   "metadata": {}
  }
 ]
}