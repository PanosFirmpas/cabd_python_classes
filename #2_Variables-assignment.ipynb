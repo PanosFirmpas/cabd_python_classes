{
 "metadata": {
  "name": "",
  "signature": "sha256:72d7fe46b3a352957f7aa33ca49a789781417e3a644c2a9689e88fef4d0d4a0e"
 },
 "nbformat": 3,
 "nbformat_minor": 0,
 "worksheets": [
  {
   "cells": [
    {
     "cell_type": "markdown",
     "metadata": {},
     "source": [
      "Variables & Assignment\n",
      "======================\n",
      "A variable is a name that has a value associated with it.\n",
      "\n",
      "You can assign a value to a variable name using the equals sign."
     ]
    },
    {
     "cell_type": "code",
     "collapsed": true,
     "input": [
      "tail_length_mm = 27"
     ],
     "language": "python",
     "metadata": {},
     "outputs": [],
     "prompt_number": 1
    },
    {
     "cell_type": "markdown",
     "metadata": {},
     "source": [
      "On the left hand side of the equals is the name of the variable. On the right hand side is that value that is assigned to it.\n",
      "\n",
      "The variable name then works just like typing it's value."
     ]
    },
    {
     "cell_type": "code",
     "collapsed": false,
     "input": [
      "print(tail_length_mm)"
     ],
     "language": "python",
     "metadata": {},
     "outputs": [
      {
       "output_type": "stream",
       "stream": "stdout",
       "text": [
        "27\n"
       ]
      }
     ],
     "prompt_number": 2
    },
    {
     "cell_type": "code",
     "collapsed": false,
     "input": [
      "print(10 + tail_length_mm * 2)"
     ],
     "language": "python",
     "metadata": {},
     "outputs": [
      {
       "output_type": "stream",
       "stream": "stdout",
       "text": [
        "64\n"
       ]
      }
     ],
     "prompt_number": 3
    },
    {
     "cell_type": "markdown",
     "metadata": {},
     "source": [
      "The value of the variable won't change unless you assign a new value to that variable.\n",
      "\n",
      "The value of one variable can also be assigned to another variable."
     ]
    },
    {
     "cell_type": "code",
     "collapsed": false,
     "input": [
      "focal_tail_length = tail_length_mm\n",
      "print(focal_tail_length)"
     ],
     "language": "python",
     "metadata": {},
     "outputs": [
      {
       "output_type": "stream",
       "stream": "stdout",
       "text": [
        "27\n"
       ]
      }
     ],
     "prompt_number": 6
    },
    {
     "cell_type": "markdown",
     "metadata": {},
     "source": [
      "Or we can do a calculation with a variable and then assign it to a new variable."
     ]
    },
    {
     "cell_type": "code",
     "collapsed": false,
     "input": [
      "mass_g = 1000\n",
      "mass_kg = mass_g / 1000\n",
      "print(mass_kg)"
     ],
     "language": "python",
     "metadata": {},
     "outputs": [
      {
       "output_type": "stream",
       "stream": "stdout",
       "text": [
        "1.0\n"
       ]
      }
     ],
     "prompt_number": 7
    },
    {
     "cell_type": "code",
     "collapsed": false,
     "input": [
      "x = 10\n",
      "y = 2\n",
      "x_plus_y = x + y\n",
      "print(x_plus_y)"
     ],
     "language": "python",
     "metadata": {},
     "outputs": [
      {
       "output_type": "stream",
       "stream": "stdout",
       "text": [
        "12\n"
       ]
      }
     ],
     "prompt_number": 8
    },
    {
     "cell_type": "markdown",
     "metadata": {},
     "source": [
      "Changing the value assigned to a variable does not change anything that has already happened. It only changes things that happen after the change."
     ]
    },
    {
     "cell_type": "code",
     "collapsed": false,
     "input": [
      "genome_length = 600\n",
      "half_genome_length = genome_length / 2\n",
      "genome_length = 1000\n",
      "print(half_genome_length)"
     ],
     "language": "python",
     "metadata": {},
     "outputs": [
      {
       "output_type": "stream",
       "stream": "stdout",
       "text": [
        "300.0\n"
       ]
      }
     ],
     "prompt_number": 9
    },
    {
     "cell_type": "markdown",
     "metadata": {},
     "source": [
      "We can also use the same variable on both sides of an equals sign. This is conterintuitive from a mathematical perspective as we would never expect to see x = x + 5, but it's perfectly fine in programming."
     ]
    },
    {
     "cell_type": "code",
     "collapsed": false,
     "input": [
      "x = 10\n",
      "x = x + 5\n",
      "x"
     ],
     "language": "python",
     "metadata": {},
     "outputs": [
      {
       "metadata": {},
       "output_type": "pyout",
       "prompt_number": 10,
       "text": [
        "15"
       ]
      }
     ],
     "prompt_number": 10
    },
    {
     "cell_type": "markdown",
     "metadata": {},
     "source": [
      "This works because the expression on the right hand side of the equation is evaluated first. Specifically, the order of operations is:\n",
      "\n",
      "1. Look up the current value of x\n",
      "2. Add 5 to that value\n",
      "3. Assign the value resulting from the addition to x\n",
      "\n",
      "Updating the value of a variable like this is a common paradigm in programming."
     ]
    },
    {
     "cell_type": "markdown",
     "metadata": {},
     "source": [
      "###Practice:\n",
      "Starting with a=0 and b=1, produce the 10 following numbers of the Fibonnaci sequence"
     ]
    },
    {
     "cell_type": "code",
     "collapsed": false,
     "input": [
      "\n",
      "\n",
      "\n",
      "\n",
      "\n",
      "\n",
      "\n",
      "\n",
      "\n",
      "\n",
      "\n",
      "\n",
      "\n",
      "\n",
      "\n",
      "\n",
      "\n",
      "\n",
      "\n",
      "\n",
      "\n",
      "\n",
      "\n",
      "\n",
      "\n",
      "\n",
      "\n",
      "\n",
      "\n",
      "\n",
      "\n",
      "\n",
      "\n",
      "\n",
      "\n",
      "\n",
      "\n",
      "\n",
      "\n",
      "\n",
      "\n",
      "\n",
      "\n",
      "\n",
      "\n",
      "\n",
      "\n",
      "\n",
      "\n",
      "\n",
      "\n",
      "\n",
      "\n",
      "\n",
      "\n",
      "\n",
      "\n",
      "\n",
      "\n",
      "\n",
      "\n",
      "\n",
      "\n",
      "\n",
      "\n",
      "\n",
      "\n",
      "\n",
      "\n",
      "\n",
      "\n",
      "\n"
     ],
     "language": "python",
     "metadata": {},
     "outputs": [],
     "prompt_number": 12
    },
    {
     "cell_type": "code",
     "collapsed": false,
     "input": [
      "a = 0\n",
      "b = 1\n"
     ],
     "language": "python",
     "metadata": {},
     "outputs": [],
     "prompt_number": 24
    },
    {
     "cell_type": "code",
     "collapsed": false,
     "input": [],
     "language": "python",
     "metadata": {},
     "outputs": []
    }
   ],
   "metadata": {}
  }
 ]
}