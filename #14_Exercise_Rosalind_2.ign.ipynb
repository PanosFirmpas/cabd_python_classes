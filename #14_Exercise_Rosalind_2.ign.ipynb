{
 "metadata": {
  "name": "",
  "signature": "sha256:7039e67190a8aee2cd1e51e88061aa679ba4dfa87975fb146303f82ed1534db1"
 },
 "nbformat": 3,
 "nbformat_minor": 0,
 "worksheets": [
  {
   "cells": [
    {
     "cell_type": "markdown",
     "metadata": {},
     "source": [
      "##Mendel's First Law\n",
      "\n",
      "Given: Three positive integers k, m, and n, representing a population containing k+m+n organisms: k individuals are homozygous dominant for a factor, m are heterozygous, and n are homozygous recessive.\n",
      "\n",
      "Return: The probability that two randomly selected mating organisms will produce an individual possessing a dominant allele (and thus displaying the dominant phenotype). Assume that any two organisms can mate."
     ]
    },
    {
     "cell_type": "markdown",
     "metadata": {},
     "source": [
      "### Analytical solution\n",
      "This problem is easily solve analytically, so let's do a little work on paper.\n",
      "\n",
      "[...]\n",
      "\n",
      "By doing a simple probability tree, we can calculate the possibility to get each of the 6 types of pairs:\n",
      "\n",
      "KM (a pair of homoz.Dominant with Heterozygous) = 2*k*m / s*(s-1) where k the number of dominant individuals in the population,and s the sum of all individuals\n",
      "\n",
      "This is because:\n",
      "The chance for the first parent to be k is k/s. The chance for the second parent to be m is m/(s-1).\n",
      "The chance for the first parent to be m is m/s. The chance for the second parent to be k is k/(s-1).\n",
      "k/s * m/(s-1) =km / s*(s-1)\n",
      "m/s * k/(s-1) =km / s*(s-1)\n",
      "The total chance for a km pair is 2km/s(s-1)\n",
      "\n",
      "In the same way we can calculate all the other probabilities.\n",
      "\n",
      "So let's put this into a function that will give us exact numbers based on the k,m,n numbers:"
     ]
    },
    {
     "cell_type": "code",
     "collapsed": false,
     "input": [
      "def get_probabilites_for_pairs(k,m,n):\n",
      "    s = k + m + n\n",
      "    ss = s * (s-1)\n",
      "    prob = {\n",
      "            'kk': k*(k-1)/ss,\n",
      "            'mm': m*(m-1)/ss,\n",
      "            'nn': n*(n-1)/ss,\n",
      "            'km': 2*k*m/ss,\n",
      "            'kn': 2*k*n/ss,\n",
      "            'mn': 2*m*n/ss}\n",
      "    return prob\n",
      "\n",
      "# get_probabilites_for_pairs(2,2,2)\n",
      "\n",
      "#Now we'll calculate the probability to get a dominant allele.\n",
      "#With simple mendel squares we get that these probabilities \n",
      "probability_to_get_dom_allele = {\n",
      "                                'kk': 1,\n",
      "                                'mm': 0.75,\n",
      "                                'nn': 0,\n",
      "                                'km': 1,\n",
      "                                'kn': 1,\n",
      "                                'mn': 0.5}\n",
      "#The total chance to get a dominant allele from that population is\n",
      "# the sum of probability_to_get_a_pair * probability_to_get_dom_allele for all 6 pairs:\n",
      "pairs = ['kk','mm','nn','km','kn','mn']\n",
      "\n",
      "k,m,n = 2,2,2\n",
      "\n",
      "total_probability = 0\n",
      "probability_to_get_a_pair = get_probabilites_for_pairs(k,m,n)\n",
      "\n",
      "for pair in pairs:\n",
      "    total_probability += probability_to_get_a_pair[pair] * probability_to_get_dom_allele[pair]\n",
      "\n",
      "\n",
      "print(total_probability)"
     ],
     "language": "python",
     "metadata": {},
     "outputs": [
      {
       "output_type": "stream",
       "stream": "stdout",
       "text": [
        "0.7833333333333332\n"
       ]
      }
     ],
     "prompt_number": 3
    },
    {
     "cell_type": "markdown",
     "metadata": {},
     "source": [
      "### Simulation\n",
      "\n",
      "That was the analytical approach, now let's try a (more fun in my opinion, but obviously less accurate) simulation:"
     ]
    },
    {
     "cell_type": "code",
     "collapsed": false,
     "input": [
      "#first we'll make a population based on k,m,n:\n",
      "def make_population(k,m,n):\n",
      "    population=[]\n",
      "    for i in range(k):\n",
      "        population.append('k')\n",
      "    for i in range(m):\n",
      "        population.append('m')\n",
      "    for i in range(n):\n",
      "        population.append('n')\n",
      "    return population\n",
      "\n",
      "#Now we'll get a random pair from that population\n",
      "# For random functions we need to import the random library\n",
      "import random\n",
      "\n",
      "def get_pair():\n",
      "    population = make_population(2,2,2)\n",
      "    #random.choice(list) return RANDOMLY one of the elements of the list\n",
      "    parent1 = random.choice(population)\n",
      "    \n",
      "    #now let's remove that individual from the population\n",
      "    population.remove(parent1)\n",
      "    \n",
      "    parent2 = random.choice(population)\n",
      "    \n",
      "    #And now we'll make them into a pair:\n",
      "    pair = parent1 + parent2\n",
      "    \n",
      "    #This might produce both \"mn\" and \"nm\" pairs.\n",
      "    #Let's sort the string alphabetically for simplicity:\n",
      "    pair = ''.join(sorted(pair)) #sorted() sorts an iterable but returns a list so we need to join\n",
      "    return(pair)\n",
      "\n",
      "\n",
      "#Now a dictionary with the possible offspring for each pair:\n",
      "#Here the 1s and 0s are not probabilities but booleans:\n",
      "#1 means the offspring has a dominant allele, and 0 means it doesnt\n",
      "probability_to_get_dom_allele = {\n",
      "                                'kk': [1,1,1,1],\n",
      "                                'mm': [1,1,1,0],\n",
      "                                'nn': [0,0,0,0],\n",
      "                                'km': [1,1,1,1],\n",
      "                                'kn': [1,1,1,1],\n",
      "                                'mn': [1,1,0,0]}\n",
      "\n",
      "#now let's get a random offspring based on a random pair:\n",
      "def get_offspring():\n",
      "    pair = get_pair()\n",
      "    offspring = random.choice( probability_to_get_dom_allele[pair] )\n",
      "    return offspring\n",
      "    \n",
      "    \n",
      "#and now let's do it many times:\n",
      "for i in range(10):\n",
      "    offspring = get_offspring()\n",
      "    if offspring:\n",
      "        print(\"This one has the allele\")\n",
      "    else:\n",
      "        print(\"This one not\")\n",
      "\n",
      "\n",
      "\n",
      "\n",
      "\n",
      "        "
     ],
     "language": "python",
     "metadata": {},
     "outputs": [
      {
       "output_type": "stream",
       "stream": "stdout",
       "text": [
        "This one has the allele\n",
        "This one has the allele\n",
        "This one has the allele\n",
        "This one has the allele\n",
        "This one has the allele\n",
        "This one has the allele\n",
        "This one has the allele\n",
        "This one has the allele\n",
        "This one not\n",
        "This one has the allele\n"
       ]
      }
     ],
     "prompt_number": 38
    },
    {
     "cell_type": "code",
     "collapsed": false,
     "input": [
      "#cool, it works, now let's do a prober experiment and count probabilities:\n",
      "sample_size = 100000\n",
      "count = 0\n",
      "for i in range(sample_size):\n",
      "    offspring = get_offspring()\n",
      "    if offspring:\n",
      "        count += 1\n",
      "\n",
      "probability = count/sample_size\n",
      "print(probability)\n",
      "    "
     ],
     "language": "python",
     "metadata": {},
     "outputs": [
      {
       "output_type": "stream",
       "stream": "stdout",
       "text": [
        "0.78221\n"
       ]
      }
     ],
     "prompt_number": 32
    },
    {
     "cell_type": "markdown",
     "metadata": {},
     "source": [
      "### Writting better code, Optimizations\n",
      "\n",
      "In the previous example, for every offspring that we want to test, we create a population from scratch\n",
      "which is completely unnecesary.\n",
      "\n",
      "Let's re write some of the code to avoid doing that:"
     ]
    },
    {
     "cell_type": "code",
     "collapsed": false,
     "input": [
      "population = make_population(2,2,2)\n",
      "\n",
      "#We move the population creation outside of the make_pair function\n",
      "#we replace the get_pair function\n",
      "def n_get_pair(population):\n",
      "    \n",
      "    #Because we will be removing things from the population list\n",
      "    #but want the population to remain unchanged\n",
      "    #We'll make a copy of the population list inside this function\n",
      "    #and we'll be using the local copy\n",
      "    a_population = population[:] #the a = list[:] effectively makes a copy of the whole list\n",
      "    \n",
      "    #random.choice(list) return RANDOMLY one of the elements of the list\n",
      "    parent1 = random.choice(a_population)\n",
      "    \n",
      "    #now let's remove that individual from the population\n",
      "    a_population.remove(parent1)\n",
      "    \n",
      "    parent2 = random.choice(a_population)\n",
      "    \n",
      "    #And now we'll make them into a pair:\n",
      "    pair = parent1 + parent2\n",
      "    \n",
      "    #This might produce both \"mn\" and \"nm\" pairs.\n",
      "    #Let's sort the string alphabetically for simplicity:\n",
      "    pair = ''.join(sorted(pair)) #sorted() sorts an iterable but returns a list so we need to join\n",
      "    return(pair)\n",
      "\n",
      "\n",
      "#and also replace the get_offspring function. we will now give it a specific population as an argument\n",
      "\n",
      "def n_get_offspring(population):\n",
      "    pair = n_get_pair(population)\n",
      "    offspring = random.choice( probability_to_get_dom_allele[pair] )\n",
      "    return offspring\n",
      "    \n",
      "    \n",
      "#and now let's do it many times:\n",
      "for i in range(10):\n",
      "    offspring = n_get_offspring(population)\n",
      "    if offspring:\n",
      "        print(\"This one has the allele\")\n",
      "    else:\n",
      "        print(\"This one not\")"
     ],
     "language": "python",
     "metadata": {},
     "outputs": [
      {
       "output_type": "stream",
       "stream": "stdout",
       "text": [
        "This one has the allele\n",
        "This one has the allele\n",
        "This one not\n",
        "This one has the allele\n",
        "This one has the allele\n",
        "This one has the allele\n",
        "This one has the allele\n",
        "This one has the allele\n",
        "This one has the allele\n",
        "This one not\n"
       ]
      }
     ],
     "prompt_number": 36
    },
    {
     "cell_type": "markdown",
     "metadata": {},
     "source": [
      "Let's see if we did improve the speed of the program:"
     ]
    },
    {
     "cell_type": "code",
     "collapsed": false,
     "input": [
      "%%timeit\n",
      "#the old way\n",
      "sample_size = 100000\n",
      "count = 0\n",
      "for i in range(sample_size):\n",
      "    offspring = get_offspring()\n",
      "    if offspring:\n",
      "        count += 1\n",
      "\n",
      "probability = count/sample_size"
     ],
     "language": "python",
     "metadata": {},
     "outputs": [
      {
       "output_type": "stream",
       "stream": "stdout",
       "text": [
        "1 loops, best of 3: 952 ms per loop\n"
       ]
      }
     ],
     "prompt_number": 39
    },
    {
     "cell_type": "code",
     "collapsed": false,
     "input": [
      "%%timeit\n",
      "#the new way\n",
      "sample_size = 100000\n",
      "count = 0\n",
      "population = make_population(2,2,2)\n",
      "for i in range(sample_size):\n",
      "    offspring = n_get_offspring(population)\n",
      "    if offspring:\n",
      "        count += 1\n",
      "\n",
      "probability = count/sample_size"
     ],
     "language": "python",
     "metadata": {},
     "outputs": [
      {
       "output_type": "stream",
       "stream": "stdout",
       "text": [
        "1 loops, best of 3: 710 ms per loop\n"
       ]
      }
     ],
     "prompt_number": 40
    },
    {
     "cell_type": "markdown",
     "metadata": {},
     "source": [
      "About 25% faster ! :)"
     ]
    },
    {
     "cell_type": "markdown",
     "metadata": {},
     "source": [
      "###Translating RNA into Protein\n",
      "\n",
      "Given: An RNA string s corresponding to a strand of mRNA (of length at most 10 kbp).\n",
      "\n",
      "Return: The protein string encoded by s"
     ]
    },
    {
     "cell_type": "code",
     "collapsed": false,
     "input": [
      "translate = {'UUU' : 'F','CUU' : 'L','AUU' : 'I','GUU' : 'V','UUC' : 'F','CUC' : 'L','AUC' : 'I','GUC' : 'V','UUA' : 'L','CUA' : 'L','AUA' : 'I','GUA' : 'V','UUG' : 'L','CUG' : 'L','AUG' : 'M','GUG' : 'V','UCU' : 'S','CCU' : 'P','ACU' : 'T','GCU' : 'A','UCC' : 'S','CCC' : 'P','ACC' : 'T','GCC' : 'A','UCA' : 'S','CCA' : 'P','ACA' : 'T','GCA' : 'A','UCG' : 'S','CCG' : 'P','ACG' : 'T','GCG' : 'A','UAU' : 'Y','CAU' : 'H','AAU' : 'N','GAU' : 'D','UAC' : 'Y','CAC' : 'H','AAC' : 'N','GAC' : 'D','UAA' : 'Stop','CAA' : 'Q','AAA' : 'K','GAA' : 'E','UAG' : 'Stop','CAG' : 'Q','AAG' : 'K','GAG' : 'E','UGU' : 'C','CGU' : 'R','AGU' : 'S','GGU' : 'G','UGC' : 'C','CGC' : 'R','AGC' : 'S','GGC' : 'G','UGA' : 'Stop','CGA' : 'R','AGA' : 'R','GGA' : 'G','UGG' : 'W','CGG' : 'R','AGG' : 'R','GGG' : 'G'}"
     ],
     "language": "python",
     "metadata": {},
     "outputs": [],
     "prompt_number": 43
    },
    {
     "cell_type": "code",
     "collapsed": false,
     "input": [
      "\n",
      "rna = 'AUGGCCAUGGCGCCCAGAACUGAGAUCAAUAGUACCCGUAUUAACGGGUGA'\n",
      "\n",
      "\n",
      "def translate_to_protein(rna):\n",
      "    protein = ''\n",
      "    for position in range(0,len(rna),3):\n",
      "        codon = rna[position:position+3]\n",
      "        aminoa = translate[codon]\n",
      "        if aminoa == 'Stop':\n",
      "            return protein\n",
      "        protein += aminoa\n",
      "    return protein\n",
      "\n",
      "    "
     ],
     "language": "python",
     "metadata": {},
     "outputs": [],
     "prompt_number": 62
    },
    {
     "cell_type": "code",
     "collapsed": false,
     "input": [
      "print(translate_to_protein(rna))"
     ],
     "language": "python",
     "metadata": {},
     "outputs": [
      {
       "output_type": "stream",
       "stream": "stdout",
       "text": [
        "MAMAPRTEINSTRING\n"
       ]
      }
     ],
     "prompt_number": 63
    },
    {
     "cell_type": "markdown",
     "metadata": {},
     "source": [
      "<b> But what if the string doesn't start with a M, and is out of "
     ]
    },
    {
     "cell_type": "code",
     "collapsed": false,
     "input": [
      "rna = 'CAUCGAUCGAUCGAAUGGCCAUGGCGCCCAGAACUGAGAUCAAUAGUACCCGUAUUAACGGGUGA'\n",
      "\n",
      "\n",
      "def translate_to_protein(rna):\n",
      "    protein = ''\n",
      "    #at first, we will read the rna with a step of 1, untill we find a M\n",
      "    position = 0\n",
      "    while position <= len(rna)-3:\n",
      "        codon = rna[position:position+3]\n",
      "        if translate[codon] != 'M':\n",
      "            position += 1\n",
      "        else:\n",
      "            break\n",
      "    #When we find the first methionie we break the while look.\n",
      "    #Now in the variable position we have the position of the first MEthionine so we can translate the protein like before\n",
      "    \n",
      "    while position <= len(rna)-3:\n",
      "        codon = rna[position:position+3]\n",
      "        aminoa = translate[codon]\n",
      "        if aminoa == 'Stop':\n",
      "            return protein\n",
      "        protein += aminoa\n",
      "        position += 3\n",
      "    return protein\n",
      "print(translate_to_protein(rna))\n",
      "        \n"
     ],
     "language": "python",
     "metadata": {},
     "outputs": [
      {
       "output_type": "stream",
       "stream": "stdout",
       "text": [
        "MAMAPRTEINSTRING\n"
       ]
      }
     ],
     "prompt_number": 65
    },
    {
     "cell_type": "code",
     "collapsed": false,
     "input": [],
     "language": "python",
     "metadata": {},
     "outputs": []
    }
   ],
   "metadata": {}
  }
 ]
}