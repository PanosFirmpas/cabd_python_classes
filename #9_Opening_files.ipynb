{
 "metadata": {
  "name": "",
  "signature": "sha256:dc8f99c7e99f264b5e6189465b916bf0f75931178b35aa94f4df034faa645208"
 },
 "nbformat": 3,
 "nbformat_minor": 0,
 "worksheets": [
  {
   "cells": [
    {
     "cell_type": "markdown",
     "metadata": {},
     "source": [
      "https://raw.githubusercontent.com/PanosFirmpas/cabd_python_classes/master/go-basic.obo\n",
      "    \n",
      "https://raw.githubusercontent.com/PanosFirmpas/cabd_python_classes/master/gene_association.zfin"
     ]
    },
    {
     "cell_type": "code",
     "collapsed": false,
     "input": [
      "Excercise:\n",
      "    Make a file with the following format:\n",
      "    \n",
      "    gene_name chromosome start end GO_code"
     ],
     "language": "python",
     "metadata": {},
     "outputs": []
    }
   ],
   "metadata": {}
  }
 ]
}