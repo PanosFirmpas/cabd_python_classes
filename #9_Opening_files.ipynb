{
 "metadata": {
  "name": "",
  "signature": "sha256:8307b6f577f058109e3c3ed1687e6a75c5cbf4ece964cf7550208616812a3693"
 },
 "nbformat": 3,
 "nbformat_minor": 0,
 "worksheets": [
  {
   "cells": [
    {
     "cell_type": "markdown",
     "metadata": {},
     "source": [
      "https://raw.githubusercontent.com/PanosFirmpas/cabd_python_classes/master/gene_association.zfin\n",
      "    \n",
      "https://raw.githubusercontent.com/PanosFirmpas/cabd_python_classes/master/gene_association.zfin"
     ]
    },
    {
     "cell_type": "markdown",
     "metadata": {},
     "source": [
      "###Excercise:\n",
      "    Make a file with the following format:\n",
      "    \n",
      "    gene_name chromosome start end GO_code"
     ]
    },
    {
     "cell_type": "code",
     "collapsed": false,
     "input": [],
     "language": "python",
     "metadata": {},
     "outputs": []
    }
   ],
   "metadata": {}
  }
 ]
}