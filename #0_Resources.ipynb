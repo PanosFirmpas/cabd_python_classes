{
 "metadata": {
  "name": "",
  "signature": "sha256:3f1f25c49f13c12fe611456c72b6071286e65084cf016802fe74d82f9c8fb2d3"
 },
 "nbformat": 3,
 "nbformat_minor": 0,
 "worksheets": [
  {
   "cells": [
    {
     "cell_type": "markdown",
     "metadata": {},
     "source": [
      "# Beginner Exercises\n",
      "\n",
      "http://www.codeabbey.com/index/task_list"
     ]
    },
    {
     "cell_type": "code",
     "collapsed": false,
     "input": [],
     "language": "python",
     "metadata": {},
     "outputs": []
    }
   ],
   "metadata": {}
  }
 ]
}