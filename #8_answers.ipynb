{
 "metadata": {
  "name": "",
  "signature": "sha256:b5955bc38486ea7acade242eb4d6b8aae68217d4fdc65c27fd365dace56c6e0f"
 },
 "nbformat": 3,
 "nbformat_minor": 0,
 "worksheets": [
  {
   "cells": [
    {
     "cell_type": "code",
     "collapsed": false,
     "input": [
      "#Let's get all the multiples of 3 below 1000\n",
      "multiples_of_three = []\n",
      "#I want to start with 1 and finish with 333 (since 3 * 334 > 1000)\n",
      "for i in range(1,334):\n",
      "    multiple = i * 3\n",
      "    multiples_of_three.append(multiple)\n",
      "# print(multiples_of_three[:20])\n",
      "\n",
      "#and now the same for multiples of 5:\n",
      "multiples_of_five = []\n",
      "for i in range(1,200):\n",
      "    multiple = i * 5\n",
      "    multiples_of_five.append(multiple)\n",
      "# print(multiples_of_five[:20])\n",
      "\n",
      "\n",
      "#We now have two lists with multiples of 3 and 5, but some numbers will exist in both lists, and we want to remove them\n",
      "for number in multiples_of_three:\n",
      "    if number in multiples_of_five:\n",
      "        multiples_of_three.remove(number)\n",
      "\n",
      "#Now we just need to add the two lists and get their sum\n",
      "multiples_of_three_or_five = multiples_of_three + multiples_of_five\n",
      "\n",
      "the_sum = sum(multiples_of_three_or_five)\n",
      "the_sum\n"
     ],
     "language": "python",
     "metadata": {},
     "outputs": [
      {
       "metadata": {},
       "output_type": "pyout",
       "prompt_number": 1,
       "text": [
        "233168"
       ]
      }
     ],
     "prompt_number": 1
    },
    {
     "cell_type": "code",
     "collapsed": false,
     "input": [
      "fib = [0,1]\n",
      "\n",
      "for i in range(32):\n",
      "    next_fib = fib[-1] + fib[-2]\n",
      "    fib.append(next_fib)\n",
      "\n",
      "even_fib_numbers = []\n",
      "for i in fib:\n",
      "    if not i%2 == 0:\n",
      "        even_fib_numbers.append(i)\n",
      "the_sum = sum(even_fib_numbers)\n",
      "the_sum"
     ],
     "language": "python",
     "metadata": {},
     "outputs": [
      {
       "metadata": {},
       "output_type": "pyout",
       "prompt_number": 2,
       "text": [
        "4613732"
       ]
      }
     ],
     "prompt_number": 2
    },
    {
     "cell_type": "code",
     "collapsed": false,
     "input": [
      "string = \"AGCTTTTCATTCTGACTGCAACGGGCAATATGTCTCTGTGTGGATTAAAAAAAGAGTGTCTGATAGCAGC\"\n",
      "\n",
      "\n",
      "A=0\n",
      "T=0\n",
      "C=0\n",
      "G=0\n",
      "\n",
      "\n",
      "for letter in string:\n",
      "    if letter == \"A\":\n",
      "        A += 1\n",
      "    elif letter == \"T\":\n",
      "        T += 1\n",
      "    elif letter == \"C\":\n",
      "        C += 1\n",
      "    else:\n",
      "        G += 1\n",
      "print(A,T,C,G)"
     ],
     "language": "python",
     "metadata": {},
     "outputs": [
      {
       "output_type": "stream",
       "stream": "stdout",
       "text": [
        "20 21 12 17\n"
       ]
      }
     ],
     "prompt_number": 4
    },
    {
     "cell_type": "code",
     "collapsed": false,
     "input": [],
     "language": "python",
     "metadata": {},
     "outputs": []
    }
   ],
   "metadata": {}
  }
 ]
}