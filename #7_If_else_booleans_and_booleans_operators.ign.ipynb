{
 "metadata": {
  "name": "",
  "signature": "sha256:e55f3314719637fee2d1f650d8e0114512be4e9db68e0f44a075da226331a495"
 },
 "nbformat": 3,
 "nbformat_minor": 0,
 "worksheets": [
  {
   "cells": [
    {
     "cell_type": "markdown",
     "metadata": {},
     "source": [
      "An important part of programming is testing if something is true.\n",
      "\n",
      "<p> A boolean is a built-in python type, like an integer or a sting, that can take one of two values: True , False .\n",
      "Notice the capitalization, Python is case-sensitive.</p>\n"
     ]
    },
    {
     "cell_type": "code",
     "collapsed": false,
     "input": [
      "if True:\n",
      "    print(\"Yes\")"
     ],
     "language": "python",
     "metadata": {},
     "outputs": [
      {
       "output_type": "stream",
       "stream": "stdout",
       "text": [
        "Yes\n"
       ]
      }
     ],
     "prompt_number": 11
    },
    {
     "cell_type": "markdown",
     "metadata": {},
     "source": [
      "<p>In an if statement, if the condition (the part next to if and before : )is True, the indended block of code is executed, otherwise it is passed.</p>"
     ]
    },
    {
     "cell_type": "code",
     "collapsed": false,
     "input": [
      "if False:\n",
      "    print(\"Yes\")"
     ],
     "language": "python",
     "metadata": {},
     "outputs": [],
     "prompt_number": 12
    },
    {
     "cell_type": "markdown",
     "metadata": {},
     "source": [
      "Comparisons are evaluated as either True or False.\n"
     ]
    },
    {
     "cell_type": "code",
     "collapsed": false,
     "input": [
      "a = 1 < 5\n",
      "print(a)\n",
      "#print(type(a))"
     ],
     "language": "python",
     "metadata": {},
     "outputs": [
      {
       "output_type": "stream",
       "stream": "stdout",
       "text": [
        "True\n"
       ]
      }
     ],
     "prompt_number": 18
    },
    {
     "cell_type": "code",
     "collapsed": false,
     "input": [
      "if 1 < 100:\n",
      "    print(\"Yes\")"
     ],
     "language": "python",
     "metadata": {},
     "outputs": [
      {
       "output_type": "stream",
       "stream": "stdout",
       "text": [
        "Yes\n"
       ]
      }
     ],
     "prompt_number": 16
    },
    {
     "cell_type": "markdown",
     "metadata": {},
     "source": [
      "The available Python comparisons are the following:\n",
      "\n",
      "<table border=\"1\" class=\"docutils\">\n",
      "<colgroup>\n",
      "<col width=\"27%\" />\n",
      "<col width=\"57%\" />\n",
      "<col width=\"16%\" />\n",
      "</colgroup>\n",
      "<thead valign=\"bottom\">\n",
      "<tr><th class=\"head\">Operation</th>\n",
      "<th class=\"head\">Meaning</th>\n",
      "<th class=\"head\">Notes</th>\n",
      "</tr>\n",
      "</thead>\n",
      "<tbody valign=\"top\">\n",
      "<tr><td><tt class=\"docutils literal\"><span class=\"pre\">&lt;</span></tt></td>\n",
      "<td>strictly less than</td>\n",
      "<td>&nbsp;</td>\n",
      "</tr>\n",
      "<tr><td><tt class=\"docutils literal\"><span class=\"pre\">&lt;=</span></tt></td>\n",
      "<td>less than or equal</td>\n",
      "<td>&nbsp;</td>\n",
      "</tr>\n",
      "<tr><td><tt class=\"docutils literal\"><span class=\"pre\">&gt;</span></tt></td>\n",
      "<td>strictly greater than</td>\n",
      "<td>&nbsp;</td>\n",
      "</tr>\n",
      "<tr><td><tt class=\"docutils literal\"><span class=\"pre\">&gt;=</span></tt></td>\n",
      "<td>greater than or equal</td>\n",
      "<td>&nbsp;</td>\n",
      "</tr>\n",
      "<tr><td><tt class=\"docutils literal\"><span class=\"pre\">==</span></tt></td>\n",
      "<td>equal</td>\n",
      "<td>&nbsp;</td>\n",
      "</tr>\n",
      "<tr><td><tt class=\"docutils literal\"><span class=\"pre\">!=</span></tt></td>\n",
      "<td>not equal</td>\n",
      "<td>(1)</td>\n",
      "</tr>\n",
      "<tr><td><tt class=\"docutils literal\"><span class=\"pre\">is</span></tt></td>\n",
      "<td>object identity</td>\n",
      "<td>&nbsp;</td>\n",
      "</tr>\n",
      "<tr><td><tt class=\"docutils literal\"><span class=\"pre\">is</span> <span class=\"pre\">not</span></tt></td>\n",
      "<td>negated object identity</td>\n",
      "<td>&nbsp;</td>\n",
      "</tr>\n",
      "</tbody>\n",
      "</table>"
     ]
    },
    {
     "cell_type": "code",
     "collapsed": false,
     "input": [
      "a = 765\n",
      "b = 765\n",
      "c = a\n",
      "\n",
      "print(a == b)\n",
      "print(a == c)\n",
      "print(a is b)\n",
      "print(a is c)"
     ],
     "language": "python",
     "metadata": {},
     "outputs": [
      {
       "output_type": "stream",
       "stream": "stdout",
       "text": [
        "True\n",
        "True\n",
        "False\n",
        "True\n"
       ]
      }
     ],
     "prompt_number": 53
    },
    {
     "cell_type": "markdown",
     "metadata": {},
     "source": [
      "<h2>Python Logical Operators:</h2>\n",
      "<p>There are following logical operators supported by Python language. Assume variable a holds 10 and variable b holds 20 then:</p>\n",
      "<table class=\"src\">\n",
      "<tr>\n",
      "<th style=\"width:10%\">Operator</th><th style=\"width:45%\">Description</th><th>Example</th>\n",
      "</tr>\n",
      "<tr>\n",
      "<td>and</td><td> Called Logical AND  operator. If both the operands are true then then condition becomes true.</td><td> (a and b) is true.</td>\n",
      "</tr>\n",
      "<tr>\n",
      "<td>or</td><td>Called Logical OR Operator.  If any of the two operands are non zero then then condition becomes true.</td><td> (a or b) is true.</td>\n",
      "</tr>\n",
      "<tr><td>not</td><td>Called Logical NOT Operator.  Use to reverses the logical state of its operand. If a condition is true then Logical NOT operator will make false.</td><td> not(a and b) is false. </td>\n",
      "</tr>\n",
      "</table>"
     ]
    },
    {
     "cell_type": "code",
     "collapsed": false,
     "input": [
      "a = 10\n",
      "b = 50\n",
      "c = 100\n",
      "\n",
      "a < b and a <c\n",
      "    "
     ],
     "language": "python",
     "metadata": {},
     "outputs": [
      {
       "metadata": {},
       "output_type": "pyout",
       "prompt_number": 61,
       "text": [
        "True"
       ]
      }
     ],
     "prompt_number": 61
    },
    {
     "cell_type": "code",
     "collapsed": false,
     "input": [
      "a < b and b < c # a < b < c"
     ],
     "language": "python",
     "metadata": {},
     "outputs": [
      {
       "metadata": {},
       "output_type": "pyout",
       "prompt_number": 62,
       "text": [
        "True"
       ]
      }
     ],
     "prompt_number": 62
    },
    {
     "cell_type": "code",
     "collapsed": false,
     "input": [
      "a > b and b < c # a > b < c"
     ],
     "language": "python",
     "metadata": {},
     "outputs": [
      {
       "metadata": {},
       "output_type": "pyout",
       "prompt_number": 63,
       "text": [
        "False"
       ]
      }
     ],
     "prompt_number": 63
    },
    {
     "cell_type": "code",
     "collapsed": false,
     "input": [
      "a < b > c # a < b > c"
     ],
     "language": "python",
     "metadata": {},
     "outputs": [
      {
       "metadata": {},
       "output_type": "pyout",
       "prompt_number": 64,
       "text": [
        "False"
       ]
      }
     ],
     "prompt_number": 64
    },
    {
     "cell_type": "code",
     "collapsed": false,
     "input": [
      "a < b or b < c"
     ],
     "language": "python",
     "metadata": {},
     "outputs": [
      {
       "metadata": {},
       "output_type": "pyout",
       "prompt_number": 65,
       "text": [
        "True"
       ]
      }
     ],
     "prompt_number": 65
    },
    {
     "cell_type": "code",
     "collapsed": false,
     "input": [
      "a > b or b < c"
     ],
     "language": "python",
     "metadata": {},
     "outputs": [
      {
       "metadata": {},
       "output_type": "pyout",
       "prompt_number": 66,
       "text": [
        "True"
       ]
      }
     ],
     "prompt_number": 66
    },
    {
     "cell_type": "code",
     "collapsed": false,
     "input": [
      "a < b or b > c"
     ],
     "language": "python",
     "metadata": {},
     "outputs": [
      {
       "metadata": {},
       "output_type": "pyout",
       "prompt_number": 67,
       "text": [
        "True"
       ]
      }
     ],
     "prompt_number": 67
    },
    {
     "cell_type": "code",
     "collapsed": false,
     "input": [
      "a > b or b > c"
     ],
     "language": "python",
     "metadata": {},
     "outputs": [
      {
       "metadata": {},
       "output_type": "pyout",
       "prompt_number": 68,
       "text": [
        "False"
       ]
      }
     ],
     "prompt_number": 68
    },
    {
     "cell_type": "code",
     "collapsed": false,
     "input": [
      "True or True"
     ],
     "language": "python",
     "metadata": {},
     "outputs": [
      {
       "metadata": {},
       "output_type": "pyout",
       "prompt_number": 69,
       "text": [
        "True"
       ]
      }
     ],
     "prompt_number": 69
    },
    {
     "cell_type": "code",
     "collapsed": false,
     "input": [
      "True and True"
     ],
     "language": "python",
     "metadata": {},
     "outputs": [
      {
       "metadata": {},
       "output_type": "pyout",
       "prompt_number": 70,
       "text": [
        "True"
       ]
      }
     ],
     "prompt_number": 70
    },
    {
     "cell_type": "code",
     "collapsed": false,
     "input": [
      "True or False"
     ],
     "language": "python",
     "metadata": {},
     "outputs": [
      {
       "metadata": {},
       "output_type": "pyout",
       "prompt_number": 71,
       "text": [
        "True"
       ]
      }
     ],
     "prompt_number": 71
    },
    {
     "cell_type": "code",
     "collapsed": false,
     "input": [
      "True and False"
     ],
     "language": "python",
     "metadata": {},
     "outputs": [
      {
       "metadata": {},
       "output_type": "pyout",
       "prompt_number": 72,
       "text": [
        "False"
       ]
      }
     ],
     "prompt_number": 72
    },
    {
     "cell_type": "code",
     "collapsed": false,
     "input": [
      "False or True"
     ],
     "language": "python",
     "metadata": {},
     "outputs": [
      {
       "metadata": {},
       "output_type": "pyout",
       "prompt_number": 73,
       "text": [
        "True"
       ]
      }
     ],
     "prompt_number": 73
    },
    {
     "cell_type": "code",
     "collapsed": false,
     "input": [
      "False and False"
     ],
     "language": "python",
     "metadata": {},
     "outputs": [
      {
       "metadata": {},
       "output_type": "pyout",
       "prompt_number": 74,
       "text": [
        "False"
       ]
      }
     ],
     "prompt_number": 74
    },
    {
     "cell_type": "code",
     "collapsed": false,
     "input": [
      "not a < b\n",
      "    "
     ],
     "language": "python",
     "metadata": {},
     "outputs": [
      {
       "metadata": {},
       "output_type": "pyout",
       "prompt_number": 76,
       "text": [
        "False"
       ]
      }
     ],
     "prompt_number": 76
    },
    {
     "cell_type": "code",
     "collapsed": true,
     "input": [
      "not a > b"
     ],
     "language": "python",
     "metadata": {},
     "outputs": [
      {
       "metadata": {},
       "output_type": "pyout",
       "prompt_number": 77,
       "text": [
        "True"
       ]
      }
     ],
     "prompt_number": 77
    },
    {
     "cell_type": "code",
     "collapsed": false,
     "input": [
      "if (not a > b) and (b < c):\n",
      "    print(\"yes\")"
     ],
     "language": "python",
     "metadata": {},
     "outputs": [
      {
       "output_type": "stream",
       "stream": "stdout",
       "text": [
        "yes\n"
       ]
      }
     ],
     "prompt_number": 78
    },
    {
     "cell_type": "markdown",
     "metadata": {},
     "source": [
      "<h2>Python Membership Operators:</h2>\n",
      "<p>In addition to the operators discussed previously, Python has membership operators, which test for membership in a sequence, such as strings, lists, or tuples. There are two membership operators explained below:</p>\n",
      "<p>[ <a href=\"/python/membership_operators_example.htm\" alt=\"Python Membership Operators Example\">Show Example</a> ]</p>\n",
      "<table class=\"src\">\n",
      "<tr>\n",
      "<th style=\"width:10%\">Operator</th><th style=\"width:45%\">Description</th><th>Example</th>\n",
      "</tr>\n",
      "<tr>\n",
      "<td>in</td><td>Evaluates to true if it finds a variable in the specified sequence and false otherwise.</td><td> x in y, here <b>in</b> results in a 1 if x is a member of sequence y.</td>\n",
      "</tr>\n",
      "<tr>\n",
      "<td>not in</td><td>Evaluates to true if it does not finds a variable in the specified sequence and false otherwise.</td><td>x not in y, here <b>not in</b> results in a 1 if x is not a member of sequence y.</td>\n",
      "</tr>\n",
      "</table>"
     ]
    },
    {
     "cell_type": "code",
     "collapsed": false,
     "input": [
      "a = 3\n",
      "b = 8\n",
      "my_list = [0,1,2,3,4,5]\n",
      "\n",
      "a in my_list"
     ],
     "language": "python",
     "metadata": {},
     "outputs": [
      {
       "metadata": {},
       "output_type": "pyout",
       "prompt_number": 79,
       "text": [
        "True"
       ]
      }
     ],
     "prompt_number": 79
    },
    {
     "cell_type": "code",
     "collapsed": false,
     "input": [
      "b in my_list"
     ],
     "language": "python",
     "metadata": {},
     "outputs": [
      {
       "metadata": {},
       "output_type": "pyout",
       "prompt_number": 80,
       "text": [
        "False"
       ]
      }
     ],
     "prompt_number": 80
    },
    {
     "cell_type": "code",
     "collapsed": false,
     "input": [
      "a not in my_list"
     ],
     "language": "python",
     "metadata": {},
     "outputs": [
      {
       "metadata": {},
       "output_type": "pyout",
       "prompt_number": 81,
       "text": [
        "False"
       ]
      }
     ],
     "prompt_number": 81
    },
    {
     "cell_type": "code",
     "collapsed": false,
     "input": [
      "b not in my_list"
     ],
     "language": "python",
     "metadata": {},
     "outputs": [
      {
       "metadata": {},
       "output_type": "pyout",
       "prompt_number": 82,
       "text": [
        "True"
       ]
      }
     ],
     "prompt_number": 82
    },
    {
     "cell_type": "markdown",
     "metadata": {},
     "source": [
      "###Else, elif"
     ]
    },
    {
     "cell_type": "markdown",
     "metadata": {},
     "source": [
      "<code>\n",
      "if something_is_true:\n",
      "    do something\n",
      "elif something_else_is_true:\n",
      "    do something\n",
      "elif another_thing_is_true:\n",
      "    do something\n",
      "else:\n",
      "    do something\n",
      "</code>"
     ]
    },
    {
     "cell_type": "code",
     "collapsed": false,
     "input": [
      "a = 500\n",
      "\n",
      "if a == 1000:\n",
      "    print(\"a equals 1000\")\n",
      "elif a == 750:\n",
      "    print(\"a equals 750\")\n",
      "elif a== 500:\n",
      "    print(\"a equals 500\")\n",
      "else:\n",
      "    print(\"a doesn't equal 1000,750 or 500\")\n",
      "    "
     ],
     "language": "python",
     "metadata": {},
     "outputs": [
      {
       "output_type": "stream",
       "stream": "stdout",
       "text": [
        "a equals 500\n"
       ]
      }
     ],
     "prompt_number": 83
    },
    {
     "cell_type": "code",
     "collapsed": false,
     "input": [
      "a = 200\n",
      "\n",
      "if a == 1000:\n",
      "    print(\"a equals 1000\")\n",
      "elif a == 750:\n",
      "    print(\"a equals 750\")\n",
      "elif a== 500:\n",
      "    print(\"a equals 500\")\n",
      "else:\n",
      "    print(\"a doesn't equal 1000,750 or 500\")"
     ],
     "language": "python",
     "metadata": {},
     "outputs": [
      {
       "output_type": "stream",
       "stream": "stdout",
       "text": [
        "a doesn't equal 1000,750 or 500\n"
       ]
      }
     ],
     "prompt_number": 84
    },
    {
     "cell_type": "code",
     "collapsed": false,
     "input": [
      "a = 200\n",
      "\n",
      "if a == 1000:\n",
      "    print(\"a equals 1000\")\n",
      "elif a == 750:\n",
      "    print(\"a equals 750\")\n",
      "elif a== 500:\n",
      "    print(\"a equals 500\")\n"
     ],
     "language": "python",
     "metadata": {},
     "outputs": [],
     "prompt_number": 85
    },
    {
     "cell_type": "code",
     "collapsed": false,
     "input": [],
     "language": "python",
     "metadata": {},
     "outputs": []
    }
   ],
   "metadata": {}
  }
 ]
}